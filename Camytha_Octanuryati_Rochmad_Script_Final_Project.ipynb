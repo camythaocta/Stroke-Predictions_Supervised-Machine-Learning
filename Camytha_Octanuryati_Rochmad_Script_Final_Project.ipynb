{
  "cells": [
    {
      "cell_type": "markdown",
      "metadata": {
        "id": "view-in-github",
        "colab_type": "text"
      },
      "source": [
        "<a href=\"https://colab.research.google.com/github/camythaocta/Stroke-Predictions_Imbalanced-Data/blob/main/Camytha_Octanuryati_Rochmad_Script_Final_Project.ipynb\" target=\"_parent\"><img src=\"https://colab.research.google.com/assets/colab-badge.svg\" alt=\"Open In Colab\"/></a>"
      ]
    },
    {
      "cell_type": "markdown",
      "metadata": {
        "id": "6aPWWy1-RvhW"
      },
      "source": [
        "The process to do with this project are:\n",
        "1. Import libraries and load the data\n",
        "2. Exploratory data analysis (EDA) which consists of preliminary look at the data, data cleansing, and data deep-dive understanding\n",
        "3. Modelling machine learning"
      ]
    },
    {
      "cell_type": "markdown",
      "source": [
        "output: which parameters have the highest contributions to the prediction of people having stroke?"
      ],
      "metadata": {
        "id": "2JNj84Uz9bs6"
      }
    },
    {
      "cell_type": "markdown",
      "metadata": {
        "id": "x3NsLVIL-1wD"
      },
      "source": [
        "#Import Libraries and Load Data"
      ]
    },
    {
      "cell_type": "code",
      "execution_count": null,
      "metadata": {
        "id": "sVcDATK41yQM"
      },
      "outputs": [],
      "source": [
        "import pandas as pd #for data processing, data manipulation, read csv file\n",
        "import matplotlib.pyplot as plt #for graphic\n",
        "import seaborn as sns #for data visualization\n",
        "import numpy as np #for linear algebra, data analysis"
      ]
    },
    {
      "cell_type": "code",
      "execution_count": null,
      "metadata": {
        "colab": {
          "base_uri": "https://localhost:8080/"
        },
        "id": "QNOnmWx50Zt9",
        "outputId": "16d6f77c-5d28-42cd-ed7e-9b61d32d71f0"
      },
      "outputs": [
        {
          "output_type": "stream",
          "name": "stdout",
          "text": [
            "Mounted at /content/drive\n"
          ]
        }
      ],
      "source": [
        "from google.colab import drive\n",
        "drive.mount('/content/drive')"
      ]
    },
    {
      "cell_type": "code",
      "execution_count": null,
      "metadata": {
        "id": "KT2Pivr81l2e"
      },
      "outputs": [],
      "source": [
        "data = pd.read_csv('/content/drive/MyDrive/Colab Notebooks/project/dataset.csv')"
      ]
    },
    {
      "cell_type": "markdown",
      "metadata": {
        "id": "HiwA507tX-at"
      },
      "source": [
        "#Exploratory Data Analysis"
      ]
    },
    {
      "cell_type": "markdown",
      "metadata": {
        "id": "qCormd1d_lB_"
      },
      "source": [
        "##Preliminary Look at the Data"
      ]
    },
    {
      "cell_type": "markdown",
      "metadata": {
        "id": "occTxhghANPT"
      },
      "source": [
        "###Sample of Data"
      ]
    },
    {
      "cell_type": "code",
      "execution_count": null,
      "metadata": {
        "colab": {
          "base_uri": "https://localhost:8080/",
          "height": 206
        },
        "id": "GO6cB2FQ8O2S",
        "outputId": "18a8b2a5-d89d-46f5-88d8-ff69d5e5ab7b"
      },
      "outputs": [
        {
          "output_type": "execute_result",
          "data": {
            "text/html": [
              "\n",
              "  <div id=\"df-257e7f2d-2a5e-4455-bf06-393039beeead\">\n",
              "    <div class=\"colab-df-container\">\n",
              "      <div>\n",
              "<style scoped>\n",
              "    .dataframe tbody tr th:only-of-type {\n",
              "        vertical-align: middle;\n",
              "    }\n",
              "\n",
              "    .dataframe tbody tr th {\n",
              "        vertical-align: top;\n",
              "    }\n",
              "\n",
              "    .dataframe thead th {\n",
              "        text-align: right;\n",
              "    }\n",
              "</style>\n",
              "<table border=\"1\" class=\"dataframe\">\n",
              "  <thead>\n",
              "    <tr style=\"text-align: right;\">\n",
              "      <th></th>\n",
              "      <th>id</th>\n",
              "      <th>gender</th>\n",
              "      <th>age</th>\n",
              "      <th>hypertension</th>\n",
              "      <th>heart_disease</th>\n",
              "      <th>ever_married</th>\n",
              "      <th>work_type</th>\n",
              "      <th>Residence_type</th>\n",
              "      <th>avg_glucose_level</th>\n",
              "      <th>bmi</th>\n",
              "      <th>smoking_status</th>\n",
              "      <th>stroke</th>\n",
              "    </tr>\n",
              "  </thead>\n",
              "  <tbody>\n",
              "    <tr>\n",
              "      <th>0</th>\n",
              "      <td>30669</td>\n",
              "      <td>Male</td>\n",
              "      <td>3.0</td>\n",
              "      <td>0</td>\n",
              "      <td>0</td>\n",
              "      <td>No</td>\n",
              "      <td>children</td>\n",
              "      <td>Rural</td>\n",
              "      <td>95.12</td>\n",
              "      <td>18.0</td>\n",
              "      <td>NaN</td>\n",
              "      <td>0</td>\n",
              "    </tr>\n",
              "    <tr>\n",
              "      <th>1</th>\n",
              "      <td>30468</td>\n",
              "      <td>Male</td>\n",
              "      <td>58.0</td>\n",
              "      <td>1</td>\n",
              "      <td>0</td>\n",
              "      <td>Yes</td>\n",
              "      <td>Private</td>\n",
              "      <td>Urban</td>\n",
              "      <td>87.96</td>\n",
              "      <td>39.2</td>\n",
              "      <td>never smoked</td>\n",
              "      <td>0</td>\n",
              "    </tr>\n",
              "    <tr>\n",
              "      <th>2</th>\n",
              "      <td>16523</td>\n",
              "      <td>Female</td>\n",
              "      <td>8.0</td>\n",
              "      <td>0</td>\n",
              "      <td>0</td>\n",
              "      <td>No</td>\n",
              "      <td>Private</td>\n",
              "      <td>Urban</td>\n",
              "      <td>110.89</td>\n",
              "      <td>17.6</td>\n",
              "      <td>NaN</td>\n",
              "      <td>0</td>\n",
              "    </tr>\n",
              "    <tr>\n",
              "      <th>3</th>\n",
              "      <td>56543</td>\n",
              "      <td>Female</td>\n",
              "      <td>70.0</td>\n",
              "      <td>0</td>\n",
              "      <td>0</td>\n",
              "      <td>Yes</td>\n",
              "      <td>Private</td>\n",
              "      <td>Rural</td>\n",
              "      <td>69.04</td>\n",
              "      <td>35.9</td>\n",
              "      <td>formerly smoked</td>\n",
              "      <td>0</td>\n",
              "    </tr>\n",
              "    <tr>\n",
              "      <th>4</th>\n",
              "      <td>46136</td>\n",
              "      <td>Male</td>\n",
              "      <td>14.0</td>\n",
              "      <td>0</td>\n",
              "      <td>0</td>\n",
              "      <td>No</td>\n",
              "      <td>Never_worked</td>\n",
              "      <td>Rural</td>\n",
              "      <td>161.28</td>\n",
              "      <td>19.1</td>\n",
              "      <td>NaN</td>\n",
              "      <td>0</td>\n",
              "    </tr>\n",
              "  </tbody>\n",
              "</table>\n",
              "</div>\n",
              "      <button class=\"colab-df-convert\" onclick=\"convertToInteractive('df-257e7f2d-2a5e-4455-bf06-393039beeead')\"\n",
              "              title=\"Convert this dataframe to an interactive table.\"\n",
              "              style=\"display:none;\">\n",
              "        \n",
              "  <svg xmlns=\"http://www.w3.org/2000/svg\" height=\"24px\"viewBox=\"0 0 24 24\"\n",
              "       width=\"24px\">\n",
              "    <path d=\"M0 0h24v24H0V0z\" fill=\"none\"/>\n",
              "    <path d=\"M18.56 5.44l.94 2.06.94-2.06 2.06-.94-2.06-.94-.94-2.06-.94 2.06-2.06.94zm-11 1L8.5 8.5l.94-2.06 2.06-.94-2.06-.94L8.5 2.5l-.94 2.06-2.06.94zm10 10l.94 2.06.94-2.06 2.06-.94-2.06-.94-.94-2.06-.94 2.06-2.06.94z\"/><path d=\"M17.41 7.96l-1.37-1.37c-.4-.4-.92-.59-1.43-.59-.52 0-1.04.2-1.43.59L10.3 9.45l-7.72 7.72c-.78.78-.78 2.05 0 2.83L4 21.41c.39.39.9.59 1.41.59.51 0 1.02-.2 1.41-.59l7.78-7.78 2.81-2.81c.8-.78.8-2.07 0-2.86zM5.41 20L4 18.59l7.72-7.72 1.47 1.35L5.41 20z\"/>\n",
              "  </svg>\n",
              "      </button>\n",
              "      \n",
              "  <style>\n",
              "    .colab-df-container {\n",
              "      display:flex;\n",
              "      flex-wrap:wrap;\n",
              "      gap: 12px;\n",
              "    }\n",
              "\n",
              "    .colab-df-convert {\n",
              "      background-color: #E8F0FE;\n",
              "      border: none;\n",
              "      border-radius: 50%;\n",
              "      cursor: pointer;\n",
              "      display: none;\n",
              "      fill: #1967D2;\n",
              "      height: 32px;\n",
              "      padding: 0 0 0 0;\n",
              "      width: 32px;\n",
              "    }\n",
              "\n",
              "    .colab-df-convert:hover {\n",
              "      background-color: #E2EBFA;\n",
              "      box-shadow: 0px 1px 2px rgba(60, 64, 67, 0.3), 0px 1px 3px 1px rgba(60, 64, 67, 0.15);\n",
              "      fill: #174EA6;\n",
              "    }\n",
              "\n",
              "    [theme=dark] .colab-df-convert {\n",
              "      background-color: #3B4455;\n",
              "      fill: #D2E3FC;\n",
              "    }\n",
              "\n",
              "    [theme=dark] .colab-df-convert:hover {\n",
              "      background-color: #434B5C;\n",
              "      box-shadow: 0px 1px 3px 1px rgba(0, 0, 0, 0.15);\n",
              "      filter: drop-shadow(0px 1px 2px rgba(0, 0, 0, 0.3));\n",
              "      fill: #FFFFFF;\n",
              "    }\n",
              "  </style>\n",
              "\n",
              "      <script>\n",
              "        const buttonEl =\n",
              "          document.querySelector('#df-257e7f2d-2a5e-4455-bf06-393039beeead button.colab-df-convert');\n",
              "        buttonEl.style.display =\n",
              "          google.colab.kernel.accessAllowed ? 'block' : 'none';\n",
              "\n",
              "        async function convertToInteractive(key) {\n",
              "          const element = document.querySelector('#df-257e7f2d-2a5e-4455-bf06-393039beeead');\n",
              "          const dataTable =\n",
              "            await google.colab.kernel.invokeFunction('convertToInteractive',\n",
              "                                                     [key], {});\n",
              "          if (!dataTable) return;\n",
              "\n",
              "          const docLinkHtml = 'Like what you see? Visit the ' +\n",
              "            '<a target=\"_blank\" href=https://colab.research.google.com/notebooks/data_table.ipynb>data table notebook</a>'\n",
              "            + ' to learn more about interactive tables.';\n",
              "          element.innerHTML = '';\n",
              "          dataTable['output_type'] = 'display_data';\n",
              "          await google.colab.output.renderOutput(dataTable, element);\n",
              "          const docLink = document.createElement('div');\n",
              "          docLink.innerHTML = docLinkHtml;\n",
              "          element.appendChild(docLink);\n",
              "        }\n",
              "      </script>\n",
              "    </div>\n",
              "  </div>\n",
              "  "
            ],
            "text/plain": [
              "      id  gender   age  ...   bmi   smoking_status stroke\n",
              "0  30669    Male   3.0  ...  18.0              NaN      0\n",
              "1  30468    Male  58.0  ...  39.2     never smoked      0\n",
              "2  16523  Female   8.0  ...  17.6              NaN      0\n",
              "3  56543  Female  70.0  ...  35.9  formerly smoked      0\n",
              "4  46136    Male  14.0  ...  19.1              NaN      0\n",
              "\n",
              "[5 rows x 12 columns]"
            ]
          },
          "metadata": {},
          "execution_count": 4
        }
      ],
      "source": [
        "data.head(5)"
      ]
    },
    {
      "cell_type": "code",
      "execution_count": null,
      "metadata": {
        "colab": {
          "base_uri": "https://localhost:8080/",
          "height": 206
        },
        "id": "QNLAUYF6-3pB",
        "outputId": "781071d2-e7e2-4feb-9c01-147f94d2f04c"
      },
      "outputs": [
        {
          "output_type": "execute_result",
          "data": {
            "text/html": [
              "\n",
              "  <div id=\"df-463cdf04-131e-4e4b-8bae-910b5d5de430\">\n",
              "    <div class=\"colab-df-container\">\n",
              "      <div>\n",
              "<style scoped>\n",
              "    .dataframe tbody tr th:only-of-type {\n",
              "        vertical-align: middle;\n",
              "    }\n",
              "\n",
              "    .dataframe tbody tr th {\n",
              "        vertical-align: top;\n",
              "    }\n",
              "\n",
              "    .dataframe thead th {\n",
              "        text-align: right;\n",
              "    }\n",
              "</style>\n",
              "<table border=\"1\" class=\"dataframe\">\n",
              "  <thead>\n",
              "    <tr style=\"text-align: right;\">\n",
              "      <th></th>\n",
              "      <th>id</th>\n",
              "      <th>gender</th>\n",
              "      <th>age</th>\n",
              "      <th>hypertension</th>\n",
              "      <th>heart_disease</th>\n",
              "      <th>ever_married</th>\n",
              "      <th>work_type</th>\n",
              "      <th>Residence_type</th>\n",
              "      <th>avg_glucose_level</th>\n",
              "      <th>bmi</th>\n",
              "      <th>smoking_status</th>\n",
              "      <th>stroke</th>\n",
              "    </tr>\n",
              "  </thead>\n",
              "  <tbody>\n",
              "    <tr>\n",
              "      <th>43395</th>\n",
              "      <td>56196</td>\n",
              "      <td>Female</td>\n",
              "      <td>10.0</td>\n",
              "      <td>0</td>\n",
              "      <td>0</td>\n",
              "      <td>No</td>\n",
              "      <td>children</td>\n",
              "      <td>Urban</td>\n",
              "      <td>58.64</td>\n",
              "      <td>20.4</td>\n",
              "      <td>never smoked</td>\n",
              "      <td>0</td>\n",
              "    </tr>\n",
              "    <tr>\n",
              "      <th>43396</th>\n",
              "      <td>5450</td>\n",
              "      <td>Female</td>\n",
              "      <td>56.0</td>\n",
              "      <td>0</td>\n",
              "      <td>0</td>\n",
              "      <td>Yes</td>\n",
              "      <td>Govt_job</td>\n",
              "      <td>Urban</td>\n",
              "      <td>213.61</td>\n",
              "      <td>55.4</td>\n",
              "      <td>formerly smoked</td>\n",
              "      <td>0</td>\n",
              "    </tr>\n",
              "    <tr>\n",
              "      <th>43397</th>\n",
              "      <td>28375</td>\n",
              "      <td>Female</td>\n",
              "      <td>82.0</td>\n",
              "      <td>1</td>\n",
              "      <td>0</td>\n",
              "      <td>Yes</td>\n",
              "      <td>Private</td>\n",
              "      <td>Urban</td>\n",
              "      <td>91.94</td>\n",
              "      <td>28.9</td>\n",
              "      <td>formerly smoked</td>\n",
              "      <td>0</td>\n",
              "    </tr>\n",
              "    <tr>\n",
              "      <th>43398</th>\n",
              "      <td>27973</td>\n",
              "      <td>Male</td>\n",
              "      <td>40.0</td>\n",
              "      <td>0</td>\n",
              "      <td>0</td>\n",
              "      <td>Yes</td>\n",
              "      <td>Private</td>\n",
              "      <td>Urban</td>\n",
              "      <td>99.16</td>\n",
              "      <td>33.2</td>\n",
              "      <td>never smoked</td>\n",
              "      <td>0</td>\n",
              "    </tr>\n",
              "    <tr>\n",
              "      <th>43399</th>\n",
              "      <td>36271</td>\n",
              "      <td>Female</td>\n",
              "      <td>82.0</td>\n",
              "      <td>0</td>\n",
              "      <td>0</td>\n",
              "      <td>Yes</td>\n",
              "      <td>Private</td>\n",
              "      <td>Urban</td>\n",
              "      <td>79.48</td>\n",
              "      <td>20.6</td>\n",
              "      <td>never smoked</td>\n",
              "      <td>0</td>\n",
              "    </tr>\n",
              "  </tbody>\n",
              "</table>\n",
              "</div>\n",
              "      <button class=\"colab-df-convert\" onclick=\"convertToInteractive('df-463cdf04-131e-4e4b-8bae-910b5d5de430')\"\n",
              "              title=\"Convert this dataframe to an interactive table.\"\n",
              "              style=\"display:none;\">\n",
              "        \n",
              "  <svg xmlns=\"http://www.w3.org/2000/svg\" height=\"24px\"viewBox=\"0 0 24 24\"\n",
              "       width=\"24px\">\n",
              "    <path d=\"M0 0h24v24H0V0z\" fill=\"none\"/>\n",
              "    <path d=\"M18.56 5.44l.94 2.06.94-2.06 2.06-.94-2.06-.94-.94-2.06-.94 2.06-2.06.94zm-11 1L8.5 8.5l.94-2.06 2.06-.94-2.06-.94L8.5 2.5l-.94 2.06-2.06.94zm10 10l.94 2.06.94-2.06 2.06-.94-2.06-.94-.94-2.06-.94 2.06-2.06.94z\"/><path d=\"M17.41 7.96l-1.37-1.37c-.4-.4-.92-.59-1.43-.59-.52 0-1.04.2-1.43.59L10.3 9.45l-7.72 7.72c-.78.78-.78 2.05 0 2.83L4 21.41c.39.39.9.59 1.41.59.51 0 1.02-.2 1.41-.59l7.78-7.78 2.81-2.81c.8-.78.8-2.07 0-2.86zM5.41 20L4 18.59l7.72-7.72 1.47 1.35L5.41 20z\"/>\n",
              "  </svg>\n",
              "      </button>\n",
              "      \n",
              "  <style>\n",
              "    .colab-df-container {\n",
              "      display:flex;\n",
              "      flex-wrap:wrap;\n",
              "      gap: 12px;\n",
              "    }\n",
              "\n",
              "    .colab-df-convert {\n",
              "      background-color: #E8F0FE;\n",
              "      border: none;\n",
              "      border-radius: 50%;\n",
              "      cursor: pointer;\n",
              "      display: none;\n",
              "      fill: #1967D2;\n",
              "      height: 32px;\n",
              "      padding: 0 0 0 0;\n",
              "      width: 32px;\n",
              "    }\n",
              "\n",
              "    .colab-df-convert:hover {\n",
              "      background-color: #E2EBFA;\n",
              "      box-shadow: 0px 1px 2px rgba(60, 64, 67, 0.3), 0px 1px 3px 1px rgba(60, 64, 67, 0.15);\n",
              "      fill: #174EA6;\n",
              "    }\n",
              "\n",
              "    [theme=dark] .colab-df-convert {\n",
              "      background-color: #3B4455;\n",
              "      fill: #D2E3FC;\n",
              "    }\n",
              "\n",
              "    [theme=dark] .colab-df-convert:hover {\n",
              "      background-color: #434B5C;\n",
              "      box-shadow: 0px 1px 3px 1px rgba(0, 0, 0, 0.15);\n",
              "      filter: drop-shadow(0px 1px 2px rgba(0, 0, 0, 0.3));\n",
              "      fill: #FFFFFF;\n",
              "    }\n",
              "  </style>\n",
              "\n",
              "      <script>\n",
              "        const buttonEl =\n",
              "          document.querySelector('#df-463cdf04-131e-4e4b-8bae-910b5d5de430 button.colab-df-convert');\n",
              "        buttonEl.style.display =\n",
              "          google.colab.kernel.accessAllowed ? 'block' : 'none';\n",
              "\n",
              "        async function convertToInteractive(key) {\n",
              "          const element = document.querySelector('#df-463cdf04-131e-4e4b-8bae-910b5d5de430');\n",
              "          const dataTable =\n",
              "            await google.colab.kernel.invokeFunction('convertToInteractive',\n",
              "                                                     [key], {});\n",
              "          if (!dataTable) return;\n",
              "\n",
              "          const docLinkHtml = 'Like what you see? Visit the ' +\n",
              "            '<a target=\"_blank\" href=https://colab.research.google.com/notebooks/data_table.ipynb>data table notebook</a>'\n",
              "            + ' to learn more about interactive tables.';\n",
              "          element.innerHTML = '';\n",
              "          dataTable['output_type'] = 'display_data';\n",
              "          await google.colab.output.renderOutput(dataTable, element);\n",
              "          const docLink = document.createElement('div');\n",
              "          docLink.innerHTML = docLinkHtml;\n",
              "          element.appendChild(docLink);\n",
              "        }\n",
              "      </script>\n",
              "    </div>\n",
              "  </div>\n",
              "  "
            ],
            "text/plain": [
              "          id  gender   age  ...   bmi   smoking_status stroke\n",
              "43395  56196  Female  10.0  ...  20.4     never smoked      0\n",
              "43396   5450  Female  56.0  ...  55.4  formerly smoked      0\n",
              "43397  28375  Female  82.0  ...  28.9  formerly smoked      0\n",
              "43398  27973    Male  40.0  ...  33.2     never smoked      0\n",
              "43399  36271  Female  82.0  ...  20.6     never smoked      0\n",
              "\n",
              "[5 rows x 12 columns]"
            ]
          },
          "metadata": {},
          "execution_count": 5
        }
      ],
      "source": [
        "data.tail(5)"
      ]
    },
    {
      "cell_type": "code",
      "execution_count": null,
      "metadata": {
        "colab": {
          "base_uri": "https://localhost:8080/",
          "height": 206
        },
        "id": "K9rXp7jE_A-j",
        "outputId": "aff3d5e4-9511-47fc-9f8f-7601c988fca5"
      },
      "outputs": [
        {
          "output_type": "execute_result",
          "data": {
            "text/html": [
              "\n",
              "  <div id=\"df-e2a08e0d-e8aa-4358-9180-efbc54896900\">\n",
              "    <div class=\"colab-df-container\">\n",
              "      <div>\n",
              "<style scoped>\n",
              "    .dataframe tbody tr th:only-of-type {\n",
              "        vertical-align: middle;\n",
              "    }\n",
              "\n",
              "    .dataframe tbody tr th {\n",
              "        vertical-align: top;\n",
              "    }\n",
              "\n",
              "    .dataframe thead th {\n",
              "        text-align: right;\n",
              "    }\n",
              "</style>\n",
              "<table border=\"1\" class=\"dataframe\">\n",
              "  <thead>\n",
              "    <tr style=\"text-align: right;\">\n",
              "      <th></th>\n",
              "      <th>id</th>\n",
              "      <th>gender</th>\n",
              "      <th>age</th>\n",
              "      <th>hypertension</th>\n",
              "      <th>heart_disease</th>\n",
              "      <th>ever_married</th>\n",
              "      <th>work_type</th>\n",
              "      <th>Residence_type</th>\n",
              "      <th>avg_glucose_level</th>\n",
              "      <th>bmi</th>\n",
              "      <th>smoking_status</th>\n",
              "      <th>stroke</th>\n",
              "    </tr>\n",
              "  </thead>\n",
              "  <tbody>\n",
              "    <tr>\n",
              "      <th>27804</th>\n",
              "      <td>26345</td>\n",
              "      <td>Female</td>\n",
              "      <td>64.0</td>\n",
              "      <td>0</td>\n",
              "      <td>0</td>\n",
              "      <td>Yes</td>\n",
              "      <td>Self-employed</td>\n",
              "      <td>Urban</td>\n",
              "      <td>98.52</td>\n",
              "      <td>33.8</td>\n",
              "      <td>never smoked</td>\n",
              "      <td>0</td>\n",
              "    </tr>\n",
              "    <tr>\n",
              "      <th>30791</th>\n",
              "      <td>24471</td>\n",
              "      <td>Female</td>\n",
              "      <td>34.0</td>\n",
              "      <td>0</td>\n",
              "      <td>0</td>\n",
              "      <td>Yes</td>\n",
              "      <td>Private</td>\n",
              "      <td>Rural</td>\n",
              "      <td>85.76</td>\n",
              "      <td>26.3</td>\n",
              "      <td>never smoked</td>\n",
              "      <td>0</td>\n",
              "    </tr>\n",
              "    <tr>\n",
              "      <th>40799</th>\n",
              "      <td>57591</td>\n",
              "      <td>Female</td>\n",
              "      <td>61.0</td>\n",
              "      <td>0</td>\n",
              "      <td>0</td>\n",
              "      <td>Yes</td>\n",
              "      <td>Private</td>\n",
              "      <td>Rural</td>\n",
              "      <td>147.57</td>\n",
              "      <td>21.5</td>\n",
              "      <td>NaN</td>\n",
              "      <td>0</td>\n",
              "    </tr>\n",
              "    <tr>\n",
              "      <th>12409</th>\n",
              "      <td>18294</td>\n",
              "      <td>Female</td>\n",
              "      <td>4.0</td>\n",
              "      <td>0</td>\n",
              "      <td>0</td>\n",
              "      <td>No</td>\n",
              "      <td>children</td>\n",
              "      <td>Urban</td>\n",
              "      <td>87.21</td>\n",
              "      <td>18.0</td>\n",
              "      <td>NaN</td>\n",
              "      <td>0</td>\n",
              "    </tr>\n",
              "    <tr>\n",
              "      <th>40516</th>\n",
              "      <td>37542</td>\n",
              "      <td>Female</td>\n",
              "      <td>80.0</td>\n",
              "      <td>0</td>\n",
              "      <td>0</td>\n",
              "      <td>Yes</td>\n",
              "      <td>Govt_job</td>\n",
              "      <td>Urban</td>\n",
              "      <td>69.73</td>\n",
              "      <td>18.1</td>\n",
              "      <td>formerly smoked</td>\n",
              "      <td>0</td>\n",
              "    </tr>\n",
              "  </tbody>\n",
              "</table>\n",
              "</div>\n",
              "      <button class=\"colab-df-convert\" onclick=\"convertToInteractive('df-e2a08e0d-e8aa-4358-9180-efbc54896900')\"\n",
              "              title=\"Convert this dataframe to an interactive table.\"\n",
              "              style=\"display:none;\">\n",
              "        \n",
              "  <svg xmlns=\"http://www.w3.org/2000/svg\" height=\"24px\"viewBox=\"0 0 24 24\"\n",
              "       width=\"24px\">\n",
              "    <path d=\"M0 0h24v24H0V0z\" fill=\"none\"/>\n",
              "    <path d=\"M18.56 5.44l.94 2.06.94-2.06 2.06-.94-2.06-.94-.94-2.06-.94 2.06-2.06.94zm-11 1L8.5 8.5l.94-2.06 2.06-.94-2.06-.94L8.5 2.5l-.94 2.06-2.06.94zm10 10l.94 2.06.94-2.06 2.06-.94-2.06-.94-.94-2.06-.94 2.06-2.06.94z\"/><path d=\"M17.41 7.96l-1.37-1.37c-.4-.4-.92-.59-1.43-.59-.52 0-1.04.2-1.43.59L10.3 9.45l-7.72 7.72c-.78.78-.78 2.05 0 2.83L4 21.41c.39.39.9.59 1.41.59.51 0 1.02-.2 1.41-.59l7.78-7.78 2.81-2.81c.8-.78.8-2.07 0-2.86zM5.41 20L4 18.59l7.72-7.72 1.47 1.35L5.41 20z\"/>\n",
              "  </svg>\n",
              "      </button>\n",
              "      \n",
              "  <style>\n",
              "    .colab-df-container {\n",
              "      display:flex;\n",
              "      flex-wrap:wrap;\n",
              "      gap: 12px;\n",
              "    }\n",
              "\n",
              "    .colab-df-convert {\n",
              "      background-color: #E8F0FE;\n",
              "      border: none;\n",
              "      border-radius: 50%;\n",
              "      cursor: pointer;\n",
              "      display: none;\n",
              "      fill: #1967D2;\n",
              "      height: 32px;\n",
              "      padding: 0 0 0 0;\n",
              "      width: 32px;\n",
              "    }\n",
              "\n",
              "    .colab-df-convert:hover {\n",
              "      background-color: #E2EBFA;\n",
              "      box-shadow: 0px 1px 2px rgba(60, 64, 67, 0.3), 0px 1px 3px 1px rgba(60, 64, 67, 0.15);\n",
              "      fill: #174EA6;\n",
              "    }\n",
              "\n",
              "    [theme=dark] .colab-df-convert {\n",
              "      background-color: #3B4455;\n",
              "      fill: #D2E3FC;\n",
              "    }\n",
              "\n",
              "    [theme=dark] .colab-df-convert:hover {\n",
              "      background-color: #434B5C;\n",
              "      box-shadow: 0px 1px 3px 1px rgba(0, 0, 0, 0.15);\n",
              "      filter: drop-shadow(0px 1px 2px rgba(0, 0, 0, 0.3));\n",
              "      fill: #FFFFFF;\n",
              "    }\n",
              "  </style>\n",
              "\n",
              "      <script>\n",
              "        const buttonEl =\n",
              "          document.querySelector('#df-e2a08e0d-e8aa-4358-9180-efbc54896900 button.colab-df-convert');\n",
              "        buttonEl.style.display =\n",
              "          google.colab.kernel.accessAllowed ? 'block' : 'none';\n",
              "\n",
              "        async function convertToInteractive(key) {\n",
              "          const element = document.querySelector('#df-e2a08e0d-e8aa-4358-9180-efbc54896900');\n",
              "          const dataTable =\n",
              "            await google.colab.kernel.invokeFunction('convertToInteractive',\n",
              "                                                     [key], {});\n",
              "          if (!dataTable) return;\n",
              "\n",
              "          const docLinkHtml = 'Like what you see? Visit the ' +\n",
              "            '<a target=\"_blank\" href=https://colab.research.google.com/notebooks/data_table.ipynb>data table notebook</a>'\n",
              "            + ' to learn more about interactive tables.';\n",
              "          element.innerHTML = '';\n",
              "          dataTable['output_type'] = 'display_data';\n",
              "          await google.colab.output.renderOutput(dataTable, element);\n",
              "          const docLink = document.createElement('div');\n",
              "          docLink.innerHTML = docLinkHtml;\n",
              "          element.appendChild(docLink);\n",
              "        }\n",
              "      </script>\n",
              "    </div>\n",
              "  </div>\n",
              "  "
            ],
            "text/plain": [
              "          id  gender   age  ...   bmi   smoking_status stroke\n",
              "27804  26345  Female  64.0  ...  33.8     never smoked      0\n",
              "30791  24471  Female  34.0  ...  26.3     never smoked      0\n",
              "40799  57591  Female  61.0  ...  21.5              NaN      0\n",
              "12409  18294  Female   4.0  ...  18.0              NaN      0\n",
              "40516  37542  Female  80.0  ...  18.1  formerly smoked      0\n",
              "\n",
              "[5 rows x 12 columns]"
            ]
          },
          "metadata": {},
          "execution_count": 6
        }
      ],
      "source": [
        "data.sample(5)"
      ]
    },
    {
      "cell_type": "markdown",
      "metadata": {
        "id": "DFDjQ8rnAUwo"
      },
      "source": [
        "1. `id` column is the key (identifier) of the dataset, meaningless to be explored further\n",
        "2. No obvious defect on the data (column name vs its entries), all looks good"
      ]
    },
    {
      "cell_type": "markdown",
      "metadata": {
        "id": "UjWAbkFFBGoH"
      },
      "source": [
        "###General Information"
      ]
    },
    {
      "cell_type": "code",
      "execution_count": null,
      "metadata": {
        "colab": {
          "base_uri": "https://localhost:8080/"
        },
        "id": "FOUORIMN_tlC",
        "outputId": "e8731b04-364b-47ac-f479-3776efc481bd"
      },
      "outputs": [
        {
          "output_type": "stream",
          "name": "stdout",
          "text": [
            "<class 'pandas.core.frame.DataFrame'>\n",
            "RangeIndex: 43400 entries, 0 to 43399\n",
            "Data columns (total 12 columns):\n",
            " #   Column             Non-Null Count  Dtype  \n",
            "---  ------             --------------  -----  \n",
            " 0   id                 43400 non-null  int64  \n",
            " 1   gender             43400 non-null  object \n",
            " 2   age                43400 non-null  float64\n",
            " 3   hypertension       43400 non-null  int64  \n",
            " 4   heart_disease      43400 non-null  int64  \n",
            " 5   ever_married       43400 non-null  object \n",
            " 6   work_type          43400 non-null  object \n",
            " 7   Residence_type     43400 non-null  object \n",
            " 8   avg_glucose_level  43400 non-null  float64\n",
            " 9   bmi                41938 non-null  float64\n",
            " 10  smoking_status     30108 non-null  object \n",
            " 11  stroke             43400 non-null  int64  \n",
            "dtypes: float64(3), int64(4), object(5)\n",
            "memory usage: 4.0+ MB\n"
          ]
        }
      ],
      "source": [
        "data.info()"
      ]
    },
    {
      "cell_type": "markdown",
      "metadata": {
        "id": "QxcNMfqrBL0t"
      },
      "source": [
        "1. Dataset contains 12 columns and 43400 rows\n",
        "2. There are 7 numerical columns and 5 categorical columns\n",
        "3. All, except `bmi` and `smoking_status` columns, has some missing values\n",
        "4. All dtypes is appropriate, given the corresponding column name"
      ]
    },
    {
      "cell_type": "markdown",
      "metadata": {
        "id": "nGYtpYQkCWWu"
      },
      "source": [
        "##Data Cleansing"
      ]
    },
    {
      "cell_type": "markdown",
      "metadata": {
        "id": "00VRV2d8Bw8m"
      },
      "source": [
        "###Missing Value Handling"
      ]
    },
    {
      "cell_type": "code",
      "execution_count": null,
      "metadata": {
        "colab": {
          "base_uri": "https://localhost:8080/"
        },
        "id": "UhL6zkgyBjJr",
        "outputId": "2ae984c9-86dc-47c1-e67c-b3029d97710f"
      },
      "outputs": [
        {
          "output_type": "execute_result",
          "data": {
            "text/plain": [
              "id                       0\n",
              "gender                   0\n",
              "age                      0\n",
              "hypertension             0\n",
              "heart_disease            0\n",
              "ever_married             0\n",
              "work_type                0\n",
              "Residence_type           0\n",
              "avg_glucose_level        0\n",
              "bmi                   1462\n",
              "smoking_status       13292\n",
              "stroke                   0\n",
              "dtype: int64"
            ]
          },
          "metadata": {},
          "execution_count": 8
        }
      ],
      "source": [
        "## number of missing values per column\n",
        "data_NaN_missing = data.isna().sum()\n",
        "data_NaN_missing"
      ]
    },
    {
      "cell_type": "code",
      "source": [
        "data_NaN_missing / len(data) * 100"
      ],
      "metadata": {
        "colab": {
          "base_uri": "https://localhost:8080/"
        },
        "id": "xvkAskNwcDaP",
        "outputId": "16948605-08a5-460c-b99b-eb59da32a883"
      },
      "execution_count": null,
      "outputs": [
        {
          "output_type": "execute_result",
          "data": {
            "text/plain": [
              "id                    0.000000\n",
              "gender                0.000000\n",
              "age                   0.000000\n",
              "hypertension          0.000000\n",
              "heart_disease         0.000000\n",
              "ever_married          0.000000\n",
              "work_type             0.000000\n",
              "Residence_type        0.000000\n",
              "avg_glucose_level     0.000000\n",
              "bmi                   3.368664\n",
              "smoking_status       30.626728\n",
              "stroke                0.000000\n",
              "dtype: float64"
            ]
          },
          "metadata": {},
          "execution_count": 9
        }
      ]
    },
    {
      "cell_type": "markdown",
      "source": [
        "There is no column that has more than 35% `NaN` missing values. Therefore, none of the columns need to be dropped. In the other hand, the imputation is conducted."
      ],
      "metadata": {
        "id": "3JTV5yGJe4U8"
      }
    },
    {
      "cell_type": "code",
      "source": [
        "data['bmi'] = data['bmi'].fillna(data['bmi'].median())"
      ],
      "metadata": {
        "id": "yjosYkOKpwrF"
      },
      "execution_count": null,
      "outputs": []
    },
    {
      "cell_type": "code",
      "source": [
        "data['smoking_status'] = data['smoking_status'].fillna(data['smoking_status'].mode()[0])"
      ],
      "metadata": {
        "id": "ZW_aiBWqlzCc"
      },
      "execution_count": null,
      "outputs": []
    },
    {
      "cell_type": "code",
      "execution_count": null,
      "metadata": {
        "colab": {
          "base_uri": "https://localhost:8080/"
        },
        "id": "nhgWx82nCaF8",
        "outputId": "53ccb67e-e874-4a52-9a4a-5829f1e1299c"
      },
      "outputs": [
        {
          "output_type": "execute_result",
          "data": {
            "text/plain": [
              "id                   0\n",
              "gender               0\n",
              "age                  0\n",
              "hypertension         0\n",
              "heart_disease        0\n",
              "ever_married         0\n",
              "work_type            0\n",
              "Residence_type       0\n",
              "avg_glucose_level    0\n",
              "bmi                  0\n",
              "smoking_status       0\n",
              "stroke               0\n",
              "dtype: int64"
            ]
          },
          "metadata": {},
          "execution_count": 12
        }
      ],
      "source": [
        "#sanity check\n",
        "data.isna().sum()"
      ]
    },
    {
      "cell_type": "markdown",
      "metadata": {
        "id": "hEfX_RylCqlw"
      },
      "source": [
        "Success removing NULL values. However, in `.isna()`, only `NaN` missing value is handled. Therefore, it is still needed to check the other types of missing value in the dataset."
      ]
    },
    {
      "cell_type": "code",
      "execution_count": null,
      "metadata": {
        "colab": {
          "base_uri": "https://localhost:8080/",
          "height": 1000
        },
        "id": "orfSBUdBB4gd",
        "outputId": "91ef450d-e561-4039-f5d7-ae9001724a43"
      },
      "outputs": [
        {
          "output_type": "stream",
          "name": "stdout",
          "text": [
            "============= id =================\n"
          ]
        },
        {
          "output_type": "display_data",
          "data": {
            "text/plain": [
              "2047     1\n",
              "42270    1\n",
              "66858    1\n",
              "7465     1\n",
              "25894    1\n",
              "        ..\n",
              "64106    1\n",
              "57961    1\n",
              "37479    1\n",
              "35428    1\n",
              "67585    1\n",
              "Name: id, Length: 43400, dtype: int64"
            ]
          },
          "metadata": {}
        },
        {
          "output_type": "stream",
          "name": "stdout",
          "text": [
            "\n",
            "============= gender =================\n"
          ]
        },
        {
          "output_type": "display_data",
          "data": {
            "text/plain": [
              "Female    25665\n",
              "Male      17724\n",
              "Other        11\n",
              "Name: gender, dtype: int64"
            ]
          },
          "metadata": {}
        },
        {
          "output_type": "stream",
          "name": "stdout",
          "text": [
            "\n",
            "============= age =================\n"
          ]
        },
        {
          "output_type": "display_data",
          "data": {
            "text/plain": [
              "51.00    738\n",
              "52.00    721\n",
              "53.00    701\n",
              "78.00    698\n",
              "50.00    694\n",
              "        ... \n",
              "0.48      37\n",
              "0.40      35\n",
              "1.00      34\n",
              "0.16      26\n",
              "0.08      17\n",
              "Name: age, Length: 104, dtype: int64"
            ]
          },
          "metadata": {}
        },
        {
          "output_type": "stream",
          "name": "stdout",
          "text": [
            "\n",
            "============= hypertension =================\n"
          ]
        },
        {
          "output_type": "display_data",
          "data": {
            "text/plain": [
              "0    39339\n",
              "1     4061\n",
              "Name: hypertension, dtype: int64"
            ]
          },
          "metadata": {}
        },
        {
          "output_type": "stream",
          "name": "stdout",
          "text": [
            "\n",
            "============= heart_disease =================\n"
          ]
        },
        {
          "output_type": "display_data",
          "data": {
            "text/plain": [
              "0    41338\n",
              "1     2062\n",
              "Name: heart_disease, dtype: int64"
            ]
          },
          "metadata": {}
        },
        {
          "output_type": "stream",
          "name": "stdout",
          "text": [
            "\n",
            "============= ever_married =================\n"
          ]
        },
        {
          "output_type": "display_data",
          "data": {
            "text/plain": [
              "Yes    27938\n",
              "No     15462\n",
              "Name: ever_married, dtype: int64"
            ]
          },
          "metadata": {}
        },
        {
          "output_type": "stream",
          "name": "stdout",
          "text": [
            "\n",
            "============= work_type =================\n"
          ]
        },
        {
          "output_type": "display_data",
          "data": {
            "text/plain": [
              "Private          24834\n",
              "Self-employed     6793\n",
              "children          6156\n",
              "Govt_job          5440\n",
              "Never_worked       177\n",
              "Name: work_type, dtype: int64"
            ]
          },
          "metadata": {}
        },
        {
          "output_type": "stream",
          "name": "stdout",
          "text": [
            "\n",
            "============= Residence_type =================\n"
          ]
        },
        {
          "output_type": "display_data",
          "data": {
            "text/plain": [
              "Urban    21756\n",
              "Rural    21644\n",
              "Name: Residence_type, dtype: int64"
            ]
          },
          "metadata": {}
        },
        {
          "output_type": "stream",
          "name": "stdout",
          "text": [
            "\n",
            "============= avg_glucose_level =================\n"
          ]
        },
        {
          "output_type": "display_data",
          "data": {
            "text/plain": [
              "82.71     19\n",
              "87.07     18\n",
              "72.53     18\n",
              "84.40     17\n",
              "90.71     17\n",
              "          ..\n",
              "202.11     1\n",
              "121.82     1\n",
              "138.99     1\n",
              "152.24     1\n",
              "160.00     1\n",
              "Name: avg_glucose_level, Length: 12543, dtype: int64"
            ]
          },
          "metadata": {}
        },
        {
          "output_type": "stream",
          "name": "stdout",
          "text": [
            "\n",
            "============= bmi =================\n"
          ]
        },
        {
          "output_type": "display_data",
          "data": {
            "text/plain": [
              "27.7    1733\n",
              "27.6     267\n",
              "26.8     266\n",
              "26.1     265\n",
              "27.1     260\n",
              "        ... \n",
              "10.1       1\n",
              "67.0       1\n",
              "11.2       1\n",
              "97.6       1\n",
              "65.2       1\n",
              "Name: bmi, Length: 555, dtype: int64"
            ]
          },
          "metadata": {}
        },
        {
          "output_type": "stream",
          "name": "stdout",
          "text": [
            "\n",
            "============= smoking_status =================\n"
          ]
        },
        {
          "output_type": "display_data",
          "data": {
            "text/plain": [
              "never smoked       29345\n",
              "formerly smoked     7493\n",
              "smokes              6562\n",
              "Name: smoking_status, dtype: int64"
            ]
          },
          "metadata": {}
        },
        {
          "output_type": "stream",
          "name": "stdout",
          "text": [
            "\n",
            "============= stroke =================\n"
          ]
        },
        {
          "output_type": "display_data",
          "data": {
            "text/plain": [
              "0    42617\n",
              "1      783\n",
              "Name: stroke, dtype: int64"
            ]
          },
          "metadata": {}
        },
        {
          "output_type": "stream",
          "name": "stdout",
          "text": [
            "\n"
          ]
        }
      ],
      "source": [
        "for column in data.columns:\n",
        "    print(f\"============= {column} =================\")\n",
        "    display(data[column].value_counts())\n",
        "    print()"
      ]
    },
    {
      "cell_type": "markdown",
      "metadata": {
        "id": "DP5wah-iDYHw"
      },
      "source": [
        "There is no strange value in each column. Therefore, now the dataset is clean from missing value."
      ]
    },
    {
      "cell_type": "code",
      "source": [
        "100 * len(data[data['gender']=='Other']) / len(data)"
      ],
      "metadata": {
        "colab": {
          "base_uri": "https://localhost:8080/"
        },
        "id": "5tZ6HvLtdaoa",
        "outputId": "79ec38bc-eca6-4fa1-b60c-7acb764325dd"
      },
      "execution_count": null,
      "outputs": [
        {
          "output_type": "execute_result",
          "data": {
            "text/plain": [
              "0.02534562211981567"
            ]
          },
          "metadata": {},
          "execution_count": 14
        }
      ]
    },
    {
      "cell_type": "markdown",
      "source": [
        "However, 'Other' in `gender` is only 0.025% of the data. Therefore, it can be omitted and focus on 'Female' and 'Male'"
      ],
      "metadata": {
        "id": "ZO7cQFo-dIEx"
      }
    },
    {
      "cell_type": "code",
      "source": [
        "data = data[data.gender != 'Other']"
      ],
      "metadata": {
        "id": "As0zdU1ZfbkL"
      },
      "execution_count": null,
      "outputs": []
    },
    {
      "cell_type": "markdown",
      "metadata": {
        "id": "5b_G0frtDuf8"
      },
      "source": [
        "###Duplicate Rows Handling"
      ]
    },
    {
      "cell_type": "code",
      "execution_count": null,
      "metadata": {
        "colab": {
          "base_uri": "https://localhost:8080/"
        },
        "id": "ScllwFOIDHvp",
        "outputId": "63b0ae80-4c7d-48f2-abe4-56e39f2d4cab"
      },
      "outputs": [
        {
          "output_type": "execute_result",
          "data": {
            "text/plain": [
              "0"
            ]
          },
          "metadata": {},
          "execution_count": 16
        }
      ],
      "source": [
        "## number of duplicated data\n",
        "data.duplicated().sum()"
      ]
    },
    {
      "cell_type": "markdown",
      "metadata": {
        "id": "DllbRrnDD-t1"
      },
      "source": [
        "There is no duplicate rows in the dataset."
      ]
    },
    {
      "cell_type": "markdown",
      "metadata": {
        "id": "hiWy_NtoEGMy"
      },
      "source": [
        "##Data deep-dive understanding"
      ]
    },
    {
      "cell_type": "markdown",
      "metadata": {
        "id": "ZA2e_e_KF_xF"
      },
      "source": [
        "###Statistical Summary"
      ]
    },
    {
      "cell_type": "code",
      "execution_count": null,
      "metadata": {
        "id": "-sIkdO4kFcEC"
      },
      "outputs": [],
      "source": [
        "numericals = ['id','age','hypertension','heart_disease','avg_glucose_level','bmi','stroke']\n",
        "categoricals = ['gender','ever_married','work_type','Residence_type','smoking_status']"
      ]
    },
    {
      "cell_type": "code",
      "execution_count": null,
      "metadata": {
        "colab": {
          "base_uri": "https://localhost:8080/",
          "height": 300
        },
        "id": "RzNWeZ87G1BN",
        "outputId": "b2d80b82-584a-40a1-9b95-b9f4b0da32cc"
      },
      "outputs": [
        {
          "output_type": "execute_result",
          "data": {
            "text/html": [
              "\n",
              "  <div id=\"df-d961bacf-36dd-4ec6-acd6-c6f635da98b8\">\n",
              "    <div class=\"colab-df-container\">\n",
              "      <div>\n",
              "<style scoped>\n",
              "    .dataframe tbody tr th:only-of-type {\n",
              "        vertical-align: middle;\n",
              "    }\n",
              "\n",
              "    .dataframe tbody tr th {\n",
              "        vertical-align: top;\n",
              "    }\n",
              "\n",
              "    .dataframe thead th {\n",
              "        text-align: right;\n",
              "    }\n",
              "</style>\n",
              "<table border=\"1\" class=\"dataframe\">\n",
              "  <thead>\n",
              "    <tr style=\"text-align: right;\">\n",
              "      <th></th>\n",
              "      <th>id</th>\n",
              "      <th>age</th>\n",
              "      <th>hypertension</th>\n",
              "      <th>heart_disease</th>\n",
              "      <th>avg_glucose_level</th>\n",
              "      <th>bmi</th>\n",
              "      <th>stroke</th>\n",
              "    </tr>\n",
              "  </thead>\n",
              "  <tbody>\n",
              "    <tr>\n",
              "      <th>count</th>\n",
              "      <td>43389.000000</td>\n",
              "      <td>43389.000000</td>\n",
              "      <td>43389.000000</td>\n",
              "      <td>43389.000000</td>\n",
              "      <td>43389.000000</td>\n",
              "      <td>43389.000000</td>\n",
              "      <td>43389.000000</td>\n",
              "    </tr>\n",
              "    <tr>\n",
              "      <th>mean</th>\n",
              "      <td>36326.360760</td>\n",
              "      <td>42.219747</td>\n",
              "      <td>0.093595</td>\n",
              "      <td>0.047524</td>\n",
              "      <td>104.486760</td>\n",
              "      <td>28.574740</td>\n",
              "      <td>0.018046</td>\n",
              "    </tr>\n",
              "    <tr>\n",
              "      <th>std</th>\n",
              "      <td>21073.474716</td>\n",
              "      <td>22.520750</td>\n",
              "      <td>0.291268</td>\n",
              "      <td>0.212758</td>\n",
              "      <td>43.115157</td>\n",
              "      <td>7.640258</td>\n",
              "      <td>0.133119</td>\n",
              "    </tr>\n",
              "    <tr>\n",
              "      <th>min</th>\n",
              "      <td>1.000000</td>\n",
              "      <td>0.080000</td>\n",
              "      <td>0.000000</td>\n",
              "      <td>0.000000</td>\n",
              "      <td>55.000000</td>\n",
              "      <td>10.100000</td>\n",
              "      <td>0.000000</td>\n",
              "    </tr>\n",
              "    <tr>\n",
              "      <th>25%</th>\n",
              "      <td>18034.000000</td>\n",
              "      <td>24.000000</td>\n",
              "      <td>0.000000</td>\n",
              "      <td>0.000000</td>\n",
              "      <td>77.540000</td>\n",
              "      <td>23.400000</td>\n",
              "      <td>0.000000</td>\n",
              "    </tr>\n",
              "    <tr>\n",
              "      <th>50%</th>\n",
              "      <td>36352.000000</td>\n",
              "      <td>44.000000</td>\n",
              "      <td>0.000000</td>\n",
              "      <td>0.000000</td>\n",
              "      <td>91.580000</td>\n",
              "      <td>27.700000</td>\n",
              "      <td>0.000000</td>\n",
              "    </tr>\n",
              "    <tr>\n",
              "      <th>75%</th>\n",
              "      <td>54516.000000</td>\n",
              "      <td>60.000000</td>\n",
              "      <td>0.000000</td>\n",
              "      <td>0.000000</td>\n",
              "      <td>112.070000</td>\n",
              "      <td>32.600000</td>\n",
              "      <td>0.000000</td>\n",
              "    </tr>\n",
              "    <tr>\n",
              "      <th>max</th>\n",
              "      <td>72943.000000</td>\n",
              "      <td>82.000000</td>\n",
              "      <td>1.000000</td>\n",
              "      <td>1.000000</td>\n",
              "      <td>291.050000</td>\n",
              "      <td>97.600000</td>\n",
              "      <td>1.000000</td>\n",
              "    </tr>\n",
              "  </tbody>\n",
              "</table>\n",
              "</div>\n",
              "      <button class=\"colab-df-convert\" onclick=\"convertToInteractive('df-d961bacf-36dd-4ec6-acd6-c6f635da98b8')\"\n",
              "              title=\"Convert this dataframe to an interactive table.\"\n",
              "              style=\"display:none;\">\n",
              "        \n",
              "  <svg xmlns=\"http://www.w3.org/2000/svg\" height=\"24px\"viewBox=\"0 0 24 24\"\n",
              "       width=\"24px\">\n",
              "    <path d=\"M0 0h24v24H0V0z\" fill=\"none\"/>\n",
              "    <path d=\"M18.56 5.44l.94 2.06.94-2.06 2.06-.94-2.06-.94-.94-2.06-.94 2.06-2.06.94zm-11 1L8.5 8.5l.94-2.06 2.06-.94-2.06-.94L8.5 2.5l-.94 2.06-2.06.94zm10 10l.94 2.06.94-2.06 2.06-.94-2.06-.94-.94-2.06-.94 2.06-2.06.94z\"/><path d=\"M17.41 7.96l-1.37-1.37c-.4-.4-.92-.59-1.43-.59-.52 0-1.04.2-1.43.59L10.3 9.45l-7.72 7.72c-.78.78-.78 2.05 0 2.83L4 21.41c.39.39.9.59 1.41.59.51 0 1.02-.2 1.41-.59l7.78-7.78 2.81-2.81c.8-.78.8-2.07 0-2.86zM5.41 20L4 18.59l7.72-7.72 1.47 1.35L5.41 20z\"/>\n",
              "  </svg>\n",
              "      </button>\n",
              "      \n",
              "  <style>\n",
              "    .colab-df-container {\n",
              "      display:flex;\n",
              "      flex-wrap:wrap;\n",
              "      gap: 12px;\n",
              "    }\n",
              "\n",
              "    .colab-df-convert {\n",
              "      background-color: #E8F0FE;\n",
              "      border: none;\n",
              "      border-radius: 50%;\n",
              "      cursor: pointer;\n",
              "      display: none;\n",
              "      fill: #1967D2;\n",
              "      height: 32px;\n",
              "      padding: 0 0 0 0;\n",
              "      width: 32px;\n",
              "    }\n",
              "\n",
              "    .colab-df-convert:hover {\n",
              "      background-color: #E2EBFA;\n",
              "      box-shadow: 0px 1px 2px rgba(60, 64, 67, 0.3), 0px 1px 3px 1px rgba(60, 64, 67, 0.15);\n",
              "      fill: #174EA6;\n",
              "    }\n",
              "\n",
              "    [theme=dark] .colab-df-convert {\n",
              "      background-color: #3B4455;\n",
              "      fill: #D2E3FC;\n",
              "    }\n",
              "\n",
              "    [theme=dark] .colab-df-convert:hover {\n",
              "      background-color: #434B5C;\n",
              "      box-shadow: 0px 1px 3px 1px rgba(0, 0, 0, 0.15);\n",
              "      filter: drop-shadow(0px 1px 2px rgba(0, 0, 0, 0.3));\n",
              "      fill: #FFFFFF;\n",
              "    }\n",
              "  </style>\n",
              "\n",
              "      <script>\n",
              "        const buttonEl =\n",
              "          document.querySelector('#df-d961bacf-36dd-4ec6-acd6-c6f635da98b8 button.colab-df-convert');\n",
              "        buttonEl.style.display =\n",
              "          google.colab.kernel.accessAllowed ? 'block' : 'none';\n",
              "\n",
              "        async function convertToInteractive(key) {\n",
              "          const element = document.querySelector('#df-d961bacf-36dd-4ec6-acd6-c6f635da98b8');\n",
              "          const dataTable =\n",
              "            await google.colab.kernel.invokeFunction('convertToInteractive',\n",
              "                                                     [key], {});\n",
              "          if (!dataTable) return;\n",
              "\n",
              "          const docLinkHtml = 'Like what you see? Visit the ' +\n",
              "            '<a target=\"_blank\" href=https://colab.research.google.com/notebooks/data_table.ipynb>data table notebook</a>'\n",
              "            + ' to learn more about interactive tables.';\n",
              "          element.innerHTML = '';\n",
              "          dataTable['output_type'] = 'display_data';\n",
              "          await google.colab.output.renderOutput(dataTable, element);\n",
              "          const docLink = document.createElement('div');\n",
              "          docLink.innerHTML = docLinkHtml;\n",
              "          element.appendChild(docLink);\n",
              "        }\n",
              "      </script>\n",
              "    </div>\n",
              "  </div>\n",
              "  "
            ],
            "text/plain": [
              "                 id           age  ...           bmi        stroke\n",
              "count  43389.000000  43389.000000  ...  43389.000000  43389.000000\n",
              "mean   36326.360760     42.219747  ...     28.574740      0.018046\n",
              "std    21073.474716     22.520750  ...      7.640258      0.133119\n",
              "min        1.000000      0.080000  ...     10.100000      0.000000\n",
              "25%    18034.000000     24.000000  ...     23.400000      0.000000\n",
              "50%    36352.000000     44.000000  ...     27.700000      0.000000\n",
              "75%    54516.000000     60.000000  ...     32.600000      0.000000\n",
              "max    72943.000000     82.000000  ...     97.600000      1.000000\n",
              "\n",
              "[8 rows x 7 columns]"
            ]
          },
          "metadata": {},
          "execution_count": 18
        }
      ],
      "source": [
        "data[numericals].describe()"
      ]
    },
    {
      "cell_type": "markdown",
      "metadata": {
        "id": "kuZmWEqJHdS_"
      },
      "source": [
        "1. `id` is the unique key\n",
        "2. `hypertension`, `heart_disease`, and `stroke` are boolean columns\n",
        "3. Overall, the minimum and maximum values make sense for each column \n",
        "4. Mean ~ 50% (Median) in `age` and `bmi` column, indicating somewhat a symmetrical distribution\n",
        "5. Mean >> 50% (Median) in `avg_glucose_level`, indicating it is positively skewed distribution"
      ]
    },
    {
      "cell_type": "markdown",
      "source": [
        "`id` column is the identifier, so it is meaningless to process further. Therefore, this column needs to be omitted. "
      ],
      "metadata": {
        "id": "LDByN0oGWVun"
      }
    },
    {
      "cell_type": "code",
      "source": [
        "data = data.drop(columns='id')"
      ],
      "metadata": {
        "id": "CYTO7X2rW7xJ"
      },
      "execution_count": null,
      "outputs": []
    },
    {
      "cell_type": "code",
      "execution_count": null,
      "metadata": {
        "colab": {
          "base_uri": "https://localhost:8080/",
          "height": 175
        },
        "id": "hbLhWOBZVDsc",
        "outputId": "f7396484-4822-439d-a7fb-a772517f9512"
      },
      "outputs": [
        {
          "output_type": "execute_result",
          "data": {
            "text/html": [
              "\n",
              "  <div id=\"df-82d8fa1c-c0f5-4407-be15-c13ab95f4796\">\n",
              "    <div class=\"colab-df-container\">\n",
              "      <div>\n",
              "<style scoped>\n",
              "    .dataframe tbody tr th:only-of-type {\n",
              "        vertical-align: middle;\n",
              "    }\n",
              "\n",
              "    .dataframe tbody tr th {\n",
              "        vertical-align: top;\n",
              "    }\n",
              "\n",
              "    .dataframe thead th {\n",
              "        text-align: right;\n",
              "    }\n",
              "</style>\n",
              "<table border=\"1\" class=\"dataframe\">\n",
              "  <thead>\n",
              "    <tr style=\"text-align: right;\">\n",
              "      <th></th>\n",
              "      <th>gender</th>\n",
              "      <th>ever_married</th>\n",
              "      <th>work_type</th>\n",
              "      <th>Residence_type</th>\n",
              "      <th>smoking_status</th>\n",
              "    </tr>\n",
              "  </thead>\n",
              "  <tbody>\n",
              "    <tr>\n",
              "      <th>count</th>\n",
              "      <td>43389</td>\n",
              "      <td>43389</td>\n",
              "      <td>43389</td>\n",
              "      <td>43389</td>\n",
              "      <td>43389</td>\n",
              "    </tr>\n",
              "    <tr>\n",
              "      <th>unique</th>\n",
              "      <td>2</td>\n",
              "      <td>2</td>\n",
              "      <td>5</td>\n",
              "      <td>2</td>\n",
              "      <td>3</td>\n",
              "    </tr>\n",
              "    <tr>\n",
              "      <th>top</th>\n",
              "      <td>Female</td>\n",
              "      <td>Yes</td>\n",
              "      <td>Private</td>\n",
              "      <td>Urban</td>\n",
              "      <td>never smoked</td>\n",
              "    </tr>\n",
              "    <tr>\n",
              "      <th>freq</th>\n",
              "      <td>25665</td>\n",
              "      <td>27933</td>\n",
              "      <td>24827</td>\n",
              "      <td>21751</td>\n",
              "      <td>29341</td>\n",
              "    </tr>\n",
              "  </tbody>\n",
              "</table>\n",
              "</div>\n",
              "      <button class=\"colab-df-convert\" onclick=\"convertToInteractive('df-82d8fa1c-c0f5-4407-be15-c13ab95f4796')\"\n",
              "              title=\"Convert this dataframe to an interactive table.\"\n",
              "              style=\"display:none;\">\n",
              "        \n",
              "  <svg xmlns=\"http://www.w3.org/2000/svg\" height=\"24px\"viewBox=\"0 0 24 24\"\n",
              "       width=\"24px\">\n",
              "    <path d=\"M0 0h24v24H0V0z\" fill=\"none\"/>\n",
              "    <path d=\"M18.56 5.44l.94 2.06.94-2.06 2.06-.94-2.06-.94-.94-2.06-.94 2.06-2.06.94zm-11 1L8.5 8.5l.94-2.06 2.06-.94-2.06-.94L8.5 2.5l-.94 2.06-2.06.94zm10 10l.94 2.06.94-2.06 2.06-.94-2.06-.94-.94-2.06-.94 2.06-2.06.94z\"/><path d=\"M17.41 7.96l-1.37-1.37c-.4-.4-.92-.59-1.43-.59-.52 0-1.04.2-1.43.59L10.3 9.45l-7.72 7.72c-.78.78-.78 2.05 0 2.83L4 21.41c.39.39.9.59 1.41.59.51 0 1.02-.2 1.41-.59l7.78-7.78 2.81-2.81c.8-.78.8-2.07 0-2.86zM5.41 20L4 18.59l7.72-7.72 1.47 1.35L5.41 20z\"/>\n",
              "  </svg>\n",
              "      </button>\n",
              "      \n",
              "  <style>\n",
              "    .colab-df-container {\n",
              "      display:flex;\n",
              "      flex-wrap:wrap;\n",
              "      gap: 12px;\n",
              "    }\n",
              "\n",
              "    .colab-df-convert {\n",
              "      background-color: #E8F0FE;\n",
              "      border: none;\n",
              "      border-radius: 50%;\n",
              "      cursor: pointer;\n",
              "      display: none;\n",
              "      fill: #1967D2;\n",
              "      height: 32px;\n",
              "      padding: 0 0 0 0;\n",
              "      width: 32px;\n",
              "    }\n",
              "\n",
              "    .colab-df-convert:hover {\n",
              "      background-color: #E2EBFA;\n",
              "      box-shadow: 0px 1px 2px rgba(60, 64, 67, 0.3), 0px 1px 3px 1px rgba(60, 64, 67, 0.15);\n",
              "      fill: #174EA6;\n",
              "    }\n",
              "\n",
              "    [theme=dark] .colab-df-convert {\n",
              "      background-color: #3B4455;\n",
              "      fill: #D2E3FC;\n",
              "    }\n",
              "\n",
              "    [theme=dark] .colab-df-convert:hover {\n",
              "      background-color: #434B5C;\n",
              "      box-shadow: 0px 1px 3px 1px rgba(0, 0, 0, 0.15);\n",
              "      filter: drop-shadow(0px 1px 2px rgba(0, 0, 0, 0.3));\n",
              "      fill: #FFFFFF;\n",
              "    }\n",
              "  </style>\n",
              "\n",
              "      <script>\n",
              "        const buttonEl =\n",
              "          document.querySelector('#df-82d8fa1c-c0f5-4407-be15-c13ab95f4796 button.colab-df-convert');\n",
              "        buttonEl.style.display =\n",
              "          google.colab.kernel.accessAllowed ? 'block' : 'none';\n",
              "\n",
              "        async function convertToInteractive(key) {\n",
              "          const element = document.querySelector('#df-82d8fa1c-c0f5-4407-be15-c13ab95f4796');\n",
              "          const dataTable =\n",
              "            await google.colab.kernel.invokeFunction('convertToInteractive',\n",
              "                                                     [key], {});\n",
              "          if (!dataTable) return;\n",
              "\n",
              "          const docLinkHtml = 'Like what you see? Visit the ' +\n",
              "            '<a target=\"_blank\" href=https://colab.research.google.com/notebooks/data_table.ipynb>data table notebook</a>'\n",
              "            + ' to learn more about interactive tables.';\n",
              "          element.innerHTML = '';\n",
              "          dataTable['output_type'] = 'display_data';\n",
              "          await google.colab.output.renderOutput(dataTable, element);\n",
              "          const docLink = document.createElement('div');\n",
              "          docLink.innerHTML = docLinkHtml;\n",
              "          element.appendChild(docLink);\n",
              "        }\n",
              "      </script>\n",
              "    </div>\n",
              "  </div>\n",
              "  "
            ],
            "text/plain": [
              "        gender ever_married work_type Residence_type smoking_status\n",
              "count    43389        43389     43389          43389          43389\n",
              "unique       2            2         5              2              3\n",
              "top     Female          Yes   Private          Urban   never smoked\n",
              "freq     25665        27933     24827          21751          29341"
            ]
          },
          "metadata": {},
          "execution_count": 20
        }
      ],
      "source": [
        "data[categoricals].describe()"
      ]
    },
    {
      "cell_type": "code",
      "execution_count": null,
      "metadata": {
        "colab": {
          "base_uri": "https://localhost:8080/"
        },
        "id": "BmWIo-e0VmYm",
        "outputId": "325cc732-4ca8-4c21-8e9f-ee80c76a1292"
      },
      "outputs": [
        {
          "output_type": "stream",
          "name": "stdout",
          "text": [
            "Value counts of gender column\n",
            "Female    25665\n",
            "Male      17724\n",
            "Name: gender, dtype: int64 \n",
            "\n",
            "Value counts of ever_married column\n",
            "Yes    27933\n",
            "No     15456\n",
            "Name: ever_married, dtype: int64 \n",
            "\n",
            "Value counts of work_type column\n",
            "Private          24827\n",
            "Self-employed     6793\n",
            "children          6154\n",
            "Govt_job          5438\n",
            "Never_worked       177\n",
            "Name: work_type, dtype: int64 \n",
            "\n",
            "Value counts of Residence_type column\n",
            "Urban    21751\n",
            "Rural    21638\n",
            "Name: Residence_type, dtype: int64 \n",
            "\n",
            "Value counts of smoking_status column\n",
            "never smoked       29341\n",
            "formerly smoked     7487\n",
            "smokes              6561\n",
            "Name: smoking_status, dtype: int64 \n",
            "\n"
          ]
        }
      ],
      "source": [
        "# showing the precise value counts\n",
        "for col in categoricals:\n",
        "  print(f\"Value counts of {col} column\")\n",
        "  print(data[col].value_counts(), '\\n')"
      ]
    },
    {
      "cell_type": "markdown",
      "metadata": {
        "id": "yWhyYu3SWIRG"
      },
      "source": [
        "Private work type and never smoked people are quite dominant"
      ]
    },
    {
      "cell_type": "markdown",
      "metadata": {
        "id": "M-CwICdeWhY7"
      },
      "source": [
        "###Univariate Analysis\n"
      ]
    },
    {
      "cell_type": "markdown",
      "metadata": {
        "id": "jcCzVhjzGarS"
      },
      "source": [
        "Univariate analysis consists of boxplot for detecting the outliers, and Kernel Density Estimation (KDE) plot and bar graph for validating the distribution form."
      ]
    },
    {
      "cell_type": "markdown",
      "metadata": {
        "id": "ylk7rjIdWtBT"
      },
      "source": [
        "####Boxplot"
      ]
    },
    {
      "cell_type": "code",
      "execution_count": null,
      "metadata": {
        "colab": {
          "base_uri": "https://localhost:8080/",
          "height": 297
        },
        "id": "rCPkAskCWmHj",
        "outputId": "46d60917-32e9-439e-eba3-858689d328d2"
      },
      "outputs": [
        {
          "output_type": "display_data",
          "data": {
            "image/png": "[encoded data removed]",
            "text/plain": [
              "<Figure size 432x288 with 6 Axes>"
            ]
          },
          "metadata": {
            "needs_background": "light"
          }
        }
      ],
      "source": [
        "features = numericals[1:]\n",
        "for i in range(0, len(features)):\n",
        "    plt.subplot(1, len(features), i+1)\n",
        "    sns.boxplot(y=data[features[i]], color='gold')\n",
        "    plt.tight_layout()"
      ]
    },
    {
      "cell_type": "markdown",
      "metadata": {
        "id": "kTKGWvUeGyav"
      },
      "source": [
        "There are outliers in `avg_glucose_level` and `bmi` columns. Therefore, these columns need to be proceed further"
      ]
    },
    {
      "cell_type": "code",
      "source": [
        "Q1_agl = np.percentile(data['avg_glucose_level'], 25, interpolation = 'midpoint') \n",
        "#Q2 = np.percentile(data, 50, interpolation = 'midpoint') \n",
        "Q3_agl = np.percentile(data['avg_glucose_level'], 75, interpolation = 'midpoint') \n",
        "IQR_agl = Q3_agl - Q1_agl\n",
        "low_lim_agl = Q1_agl - 1.5 * IQR_agl\n",
        "up_lim_agl = Q3_agl + 1.5 * IQR_agl"
      ],
      "metadata": {
        "id": "VmIAXdW-rEZq"
      },
      "execution_count": null,
      "outputs": []
    },
    {
      "cell_type": "code",
      "source": [
        "outlier_avg = []\n",
        "for x in data['avg_glucose_level']:\n",
        "    if ((x> up_lim_agl) or (x<low_lim_agl)):\n",
        "         outlier_avg.append(x)\n",
        "print('There are', len(outlier_avg), 'outliers in avg_glucose_level column and it is', round(len(outlier_avg)/len(data)*100,2),'% of the total data' )"
      ],
      "metadata": {
        "colab": {
          "base_uri": "https://localhost:8080/"
        },
        "id": "txc-kriRrhzt",
        "outputId": "15a1ebc5-5e67-4efd-9d87-f5817dc26f2a"
      },
      "execution_count": null,
      "outputs": [
        {
          "output_type": "stream",
          "name": "stdout",
          "text": [
            "There are 4978 outliers in avg_glucose_level column and it is 11.47 % of the total data\n"
          ]
        }
      ]
    },
    {
      "cell_type": "code",
      "source": [
        "Q1_bmi = np.percentile(data['bmi'], 25, interpolation = 'midpoint') \n",
        "Q3_bmi = np.percentile(data['bmi'], 75, interpolation = 'midpoint') \n",
        "IQR_bmi = Q3_bmi - Q1_bmi\n",
        "low_lim_bmi = Q1_bmi - 1.5 * IQR_bmi\n",
        "up_lim_bmi = Q3_bmi + 1.5 * IQR_bmi"
      ],
      "metadata": {
        "id": "fzOUYuRM28rP"
      },
      "execution_count": null,
      "outputs": []
    },
    {
      "cell_type": "code",
      "source": [
        "outlier_bmi = []\n",
        "for x in data['bmi']:\n",
        "    if ((x> up_lim_bmi) or (x<low_lim_bmi)):\n",
        "         outlier_bmi.append(x)\n",
        "print('There are', len(outlier_bmi), 'outliers in bmi column and it is', round(len(outlier_bmi)/len(data)*100,2), '% of the total data' )"
      ],
      "metadata": {
        "colab": {
          "base_uri": "https://localhost:8080/"
        },
        "id": "45jUPfcM3uf6",
        "outputId": "3f81a890-ce88-4c12-8a28-b559efe0133b"
      },
      "execution_count": null,
      "outputs": [
        {
          "output_type": "stream",
          "name": "stdout",
          "text": [
            "There are 1084 outliers in bmi column and it is 2.5 % of the total data\n"
          ]
        }
      ]
    },
    {
      "cell_type": "markdown",
      "source": [
        "Outliers in `avg_glucose_level` is 11.47% (greater than 5%), so the clip method in pandas is used. Meanwhile, outliers in `bmi` is 2.5% (less than 5%), so it can be dropped"
      ],
      "metadata": {
        "id": "G3aKCIa745wE"
      }
    },
    {
      "cell_type": "code",
      "source": [
        "#outliers handling for avg_glucose_level column\n",
        "data['avg_glucose_level'] = data['avg_glucose_level'].clip(upper=275)"
      ],
      "metadata": {
        "id": "G_nVzO7woSuR"
      },
      "execution_count": null,
      "outputs": []
    },
    {
      "cell_type": "code",
      "execution_count": null,
      "metadata": {
        "colab": {
          "base_uri": "https://localhost:8080/"
        },
        "id": "WpL9OK0pJjcM",
        "outputId": "2aab5601-14ba-4c31-9539-472e697eee4d"
      },
      "outputs": [
        {
          "output_type": "stream",
          "name": "stdout",
          "text": [
            "number of rows before filtering outliers are 43389 rows\n",
            "number of rows after filtering outliers are 42305 rows\n"
          ]
        }
      ],
      "source": [
        "#outliers handling for bmi column\n",
        "\n",
        "print(f'number of rows before filtering outliers are {len(data)} rows')\n",
        "\n",
        "filtered_entries = np.array([True] * len(data))\n",
        "for col in ['bmi']:\n",
        "    filtered_entries = ((data[col] >= low_lim_bmi) & (data[col] <= up_lim_bmi)) & filtered_entries\n",
        "    \n",
        "data_filtered= data[filtered_entries]\n",
        "\n",
        "print(f'number of rows after filtering outliers are {len(data_filtered)} rows')"
      ]
    },
    {
      "cell_type": "markdown",
      "metadata": {
        "id": "K_avKgR1nkil"
      },
      "source": [
        "####KDE plot"
      ]
    },
    {
      "cell_type": "code",
      "execution_count": null,
      "metadata": {
        "colab": {
          "base_uri": "https://localhost:8080/",
          "height": 304
        },
        "id": "QFrs3YLjk8Rh",
        "outputId": "7e9965ab-22ee-494f-8fee-262c8f9a3caf"
      },
      "outputs": [
        {
          "output_type": "display_data",
          "data": {
            "image/png": "[encoded data removed]",
            "text/plain": [
              "<Figure size 2160x504 with 6 Axes>"
            ]
          },
          "metadata": {
            "needs_background": "light"
          }
        }
      ],
      "source": [
        "import warnings\n",
        "warnings.simplefilter(action='ignore', category=FutureWarning)\n",
        "\n",
        "features = numericals[1:]\n",
        "plt.figure(figsize=(30,7))\n",
        "for i in range(0, len(features)):\n",
        "    plt.subplot(1, len(features), i+1)\n",
        "    sns.distplot(x=data_filtered[features[i]], color='olive')\n",
        "    plt.xlabel(features[i])\n",
        "    plt.tight_layout()"
      ]
    },
    {
      "cell_type": "markdown",
      "metadata": {
        "id": "HViV7NgPk0wu"
      },
      "source": [
        "1. `avg_glucose_level` is positively skewed\n",
        "2. `bmi` is slightly symmetrical distribution"
      ]
    },
    {
      "cell_type": "markdown",
      "metadata": {
        "id": "S9SRK9Brq8AI"
      },
      "source": [
        "####Barplot"
      ]
    },
    {
      "cell_type": "code",
      "execution_count": null,
      "metadata": {
        "colab": {
          "base_uri": "https://localhost:8080/",
          "height": 317
        },
        "id": "doE0xGn9n2A5",
        "outputId": "a522ed17-fb4e-47e6-ead0-01387ff98ffc"
      },
      "outputs": [
        {
          "output_type": "display_data",
          "data": {
            "image/png": "[encoded data removed]",
            "text/plain": [
              "<Figure size 1296x288 with 5 Axes>"
            ]
          },
          "metadata": {
            "needs_background": "light"
          }
        }
      ],
      "source": [
        "features = categoricals\n",
        "plt.figure(figsize=(18,4))\n",
        "for i in range(0, len(features)):\n",
        "    plt.subplot(1, len(features), i+1)\n",
        "    sns.countplot(data=data_filtered,\n",
        "            x=features[i],\n",
        "            hue='stroke')\n",
        "    plt.xticks(rotation=45)\n",
        "    plt.tight_layout()"
      ]
    },
    {
      "cell_type": "markdown",
      "metadata": {
        "id": "ss5Tm10fp5cj"
      },
      "source": [
        "1. Male ~ Female to have stroke\n",
        "2. People who has married is more likely to have stroke\n",
        "3. People who work in private and self-employed are more likely to have stroke\n",
        "4. Urban ~ rural people to have stroke\n",
        "5. People who never smoked has tendency to have stroke"
      ]
    },
    {
      "cell_type": "markdown",
      "metadata": {
        "id": "buHM-ZXBTzf0"
      },
      "source": [
        "###Multivariate (Bivariate) Analysis"
      ]
    },
    {
      "cell_type": "code",
      "execution_count": null,
      "metadata": {
        "colab": {
          "base_uri": "https://localhost:8080/",
          "height": 367
        },
        "id": "YWqOzugtq3hh",
        "outputId": "bea56a26-d295-4d36-e4cf-4bf1beee5cd3"
      },
      "outputs": [
        {
          "output_type": "execute_result",
          "data": {
            "text/plain": [
              "<matplotlib.axes._subplots.AxesSubplot at 0x7f6320192c10>"
            ]
          },
          "metadata": {},
          "execution_count": 31
        },
        {
          "output_type": "display_data",
          "data": {
            "image/png": "[encoded data removed]",
            "text/plain": [
              "<Figure size 432x288 with 2 Axes>"
            ]
          },
          "metadata": {
            "needs_background": "light"
          }
        }
      ],
      "source": [
        "#Heat Map\n",
        "correlation = data_filtered.corr()\n",
        "sns.heatmap(correlation, annot=True, fmt='.2f')"
      ]
    },
    {
      "cell_type": "markdown",
      "metadata": {
        "id": "pmavnJGNZofk"
      },
      "source": [
        "There is no redundant features in this dataset. Therefore, all columns is used."
      ]
    },
    {
      "cell_type": "code",
      "execution_count": null,
      "metadata": {
        "colab": {
          "base_uri": "https://localhost:8080/",
          "height": 920
        },
        "id": "B8w8hLaAbmew",
        "outputId": "a9a2c07b-ed25-4701-e020-b9652b6951ff"
      },
      "outputs": [
        {
          "output_type": "execute_result",
          "data": {
            "text/plain": [
              "<seaborn.axisgrid.PairGrid at 0x7f63201b2a50>"
            ]
          },
          "metadata": {},
          "execution_count": 32
        },
        {
          "output_type": "display_data",
          "data": {
            "image/png": "[encoded data removed]",
            "text/plain": [
              "<Figure size 942.375x900 with 30 Axes>"
            ]
          },
          "metadata": {
            "needs_background": "light"
          }
        }
      ],
      "source": [
        "#Pair Plot\n",
        "sns.pairplot(data_filtered, hue='stroke')"
      ]
    },
    {
      "cell_type": "markdown",
      "metadata": {
        "id": "_78Ozlv1fSSp"
      },
      "source": [
        "1. People who are 50-75 years old tend to have stroke\n",
        "2. People who have hypertension and heart disease tend to have stroke\n",
        "3. People who have normal average glucose level (in range 75-125) tend to have stroke\n",
        "4. People who have excess weight (bmi value more than 25) tend to have stroke"
      ]
    },
    {
      "cell_type": "markdown",
      "metadata": {
        "id": "5Kr31wsBYPCB"
      },
      "source": [
        "#Modelling machine learning"
      ]
    },
    {
      "cell_type": "markdown",
      "metadata": {
        "id": "0WZW_wskb3bw"
      },
      "source": [
        "##Split Data"
      ]
    },
    {
      "cell_type": "code",
      "execution_count": null,
      "metadata": {
        "id": "sjX2uIWKb5b2"
      },
      "outputs": [],
      "source": [
        "from sklearn.model_selection import train_test_split\n",
        "\n",
        "train_data, test_data = train_test_split(data_filtered, test_size=0.20, random_state=6)"
      ]
    },
    {
      "cell_type": "markdown",
      "metadata": {
        "id": "BXuXtBHQcv7l"
      },
      "source": [
        "##Categorical feature handling"
      ]
    },
    {
      "cell_type": "code",
      "execution_count": null,
      "metadata": {
        "id": "yocvbq4ucx_P"
      },
      "outputs": [],
      "source": [
        "# convert columns with 2 distinct values to boolean\n",
        "bool_categoricals = ['gender','ever_married', 'Residence_type']\n",
        "\n",
        "for feature in bool_categoricals:\n",
        "  if feature == 'gender':\n",
        "    train_data[feature] = train_data[feature].apply(lambda x: 1 if x=='Female' else 0).astype(int)\n",
        "    test_data[feature] = test_data[feature].apply(lambda x: 1 if x=='Female' else 0).astype(int)\n",
        "  if feature == 'Residence_type':\n",
        "    train_data[feature] = train_data[feature].apply(lambda x: 1 if x=='Urban' else 0).astype(int)\n",
        "    test_data[feature] = test_data[feature].apply(lambda x: 1 if x=='Urban' else 0).astype(int)\n",
        "  else :\n",
        "    train_data[feature] = train_data[feature].apply(lambda x: 1 if x=='Yes' else 0).astype(int)\n",
        "    test_data[feature] = test_data[feature].apply(lambda x: 1 if x=='Yes' else 0).astype(int)"
      ]
    },
    {
      "cell_type": "code",
      "execution_count": null,
      "metadata": {
        "colab": {
          "base_uri": "https://localhost:8080/",
          "height": 505
        },
        "id": "5jdtLXHGmEp3",
        "outputId": "ce02a94f-23c2-4bde-beae-e664373a8b74"
      },
      "outputs": [
        {
          "output_type": "execute_result",
          "data": {
            "text/html": [
              "\n",
              "  <div id=\"df-de4b6905-a118-4d79-b151-f8048d0fa67f\">\n",
              "    <div class=\"colab-df-container\">\n",
              "      <div>\n",
              "<style scoped>\n",
              "    .dataframe tbody tr th:only-of-type {\n",
              "        vertical-align: middle;\n",
              "    }\n",
              "\n",
              "    .dataframe tbody tr th {\n",
              "        vertical-align: top;\n",
              "    }\n",
              "\n",
              "    .dataframe thead th {\n",
              "        text-align: right;\n",
              "    }\n",
              "</style>\n",
              "<table border=\"1\" class=\"dataframe\">\n",
              "  <thead>\n",
              "    <tr style=\"text-align: right;\">\n",
              "      <th></th>\n",
              "      <th>gender</th>\n",
              "      <th>age</th>\n",
              "      <th>hypertension</th>\n",
              "      <th>heart_disease</th>\n",
              "      <th>ever_married</th>\n",
              "      <th>Residence_type</th>\n",
              "      <th>avg_glucose_level</th>\n",
              "      <th>bmi</th>\n",
              "      <th>stroke</th>\n",
              "      <th>work_type_Govt_job</th>\n",
              "      <th>work_type_Never_worked</th>\n",
              "      <th>work_type_Private</th>\n",
              "      <th>work_type_Self-employed</th>\n",
              "      <th>work_type_children</th>\n",
              "      <th>smoking_status_formerly smoked</th>\n",
              "      <th>smoking_status_never smoked</th>\n",
              "      <th>smoking_status_smokes</th>\n",
              "    </tr>\n",
              "  </thead>\n",
              "  <tbody>\n",
              "    <tr>\n",
              "      <th>32317</th>\n",
              "      <td>0</td>\n",
              "      <td>24.0</td>\n",
              "      <td>0</td>\n",
              "      <td>0</td>\n",
              "      <td>0</td>\n",
              "      <td>0</td>\n",
              "      <td>87.45</td>\n",
              "      <td>23.4</td>\n",
              "      <td>0</td>\n",
              "      <td>1</td>\n",
              "      <td>0</td>\n",
              "      <td>0</td>\n",
              "      <td>0</td>\n",
              "      <td>0</td>\n",
              "      <td>0</td>\n",
              "      <td>1</td>\n",
              "      <td>0</td>\n",
              "    </tr>\n",
              "    <tr>\n",
              "      <th>24317</th>\n",
              "      <td>0</td>\n",
              "      <td>66.0</td>\n",
              "      <td>1</td>\n",
              "      <td>0</td>\n",
              "      <td>1</td>\n",
              "      <td>0</td>\n",
              "      <td>123.46</td>\n",
              "      <td>31.2</td>\n",
              "      <td>0</td>\n",
              "      <td>1</td>\n",
              "      <td>0</td>\n",
              "      <td>0</td>\n",
              "      <td>0</td>\n",
              "      <td>0</td>\n",
              "      <td>0</td>\n",
              "      <td>1</td>\n",
              "      <td>0</td>\n",
              "    </tr>\n",
              "    <tr>\n",
              "      <th>7455</th>\n",
              "      <td>0</td>\n",
              "      <td>46.0</td>\n",
              "      <td>0</td>\n",
              "      <td>0</td>\n",
              "      <td>1</td>\n",
              "      <td>1</td>\n",
              "      <td>128.77</td>\n",
              "      <td>27.8</td>\n",
              "      <td>0</td>\n",
              "      <td>0</td>\n",
              "      <td>0</td>\n",
              "      <td>1</td>\n",
              "      <td>0</td>\n",
              "      <td>0</td>\n",
              "      <td>0</td>\n",
              "      <td>1</td>\n",
              "      <td>0</td>\n",
              "    </tr>\n",
              "    <tr>\n",
              "      <th>17804</th>\n",
              "      <td>0</td>\n",
              "      <td>82.0</td>\n",
              "      <td>0</td>\n",
              "      <td>0</td>\n",
              "      <td>1</td>\n",
              "      <td>1</td>\n",
              "      <td>80.91</td>\n",
              "      <td>26.9</td>\n",
              "      <td>0</td>\n",
              "      <td>1</td>\n",
              "      <td>0</td>\n",
              "      <td>0</td>\n",
              "      <td>0</td>\n",
              "      <td>0</td>\n",
              "      <td>0</td>\n",
              "      <td>1</td>\n",
              "      <td>0</td>\n",
              "    </tr>\n",
              "    <tr>\n",
              "      <th>16435</th>\n",
              "      <td>0</td>\n",
              "      <td>78.0</td>\n",
              "      <td>0</td>\n",
              "      <td>0</td>\n",
              "      <td>1</td>\n",
              "      <td>1</td>\n",
              "      <td>243.22</td>\n",
              "      <td>28.1</td>\n",
              "      <td>0</td>\n",
              "      <td>0</td>\n",
              "      <td>0</td>\n",
              "      <td>0</td>\n",
              "      <td>1</td>\n",
              "      <td>0</td>\n",
              "      <td>1</td>\n",
              "      <td>0</td>\n",
              "      <td>0</td>\n",
              "    </tr>\n",
              "    <tr>\n",
              "      <th>...</th>\n",
              "      <td>...</td>\n",
              "      <td>...</td>\n",
              "      <td>...</td>\n",
              "      <td>...</td>\n",
              "      <td>...</td>\n",
              "      <td>...</td>\n",
              "      <td>...</td>\n",
              "      <td>...</td>\n",
              "      <td>...</td>\n",
              "      <td>...</td>\n",
              "      <td>...</td>\n",
              "      <td>...</td>\n",
              "      <td>...</td>\n",
              "      <td>...</td>\n",
              "      <td>...</td>\n",
              "      <td>...</td>\n",
              "      <td>...</td>\n",
              "    </tr>\n",
              "    <tr>\n",
              "      <th>32924</th>\n",
              "      <td>0</td>\n",
              "      <td>16.0</td>\n",
              "      <td>0</td>\n",
              "      <td>0</td>\n",
              "      <td>0</td>\n",
              "      <td>1</td>\n",
              "      <td>72.14</td>\n",
              "      <td>26.8</td>\n",
              "      <td>0</td>\n",
              "      <td>0</td>\n",
              "      <td>0</td>\n",
              "      <td>0</td>\n",
              "      <td>1</td>\n",
              "      <td>0</td>\n",
              "      <td>0</td>\n",
              "      <td>1</td>\n",
              "      <td>0</td>\n",
              "    </tr>\n",
              "    <tr>\n",
              "      <th>42361</th>\n",
              "      <td>0</td>\n",
              "      <td>30.0</td>\n",
              "      <td>0</td>\n",
              "      <td>0</td>\n",
              "      <td>1</td>\n",
              "      <td>1</td>\n",
              "      <td>87.28</td>\n",
              "      <td>22.5</td>\n",
              "      <td>0</td>\n",
              "      <td>0</td>\n",
              "      <td>0</td>\n",
              "      <td>1</td>\n",
              "      <td>0</td>\n",
              "      <td>0</td>\n",
              "      <td>0</td>\n",
              "      <td>1</td>\n",
              "      <td>0</td>\n",
              "    </tr>\n",
              "    <tr>\n",
              "      <th>4834</th>\n",
              "      <td>0</td>\n",
              "      <td>17.0</td>\n",
              "      <td>0</td>\n",
              "      <td>0</td>\n",
              "      <td>0</td>\n",
              "      <td>1</td>\n",
              "      <td>63.28</td>\n",
              "      <td>40.2</td>\n",
              "      <td>0</td>\n",
              "      <td>0</td>\n",
              "      <td>0</td>\n",
              "      <td>1</td>\n",
              "      <td>0</td>\n",
              "      <td>0</td>\n",
              "      <td>0</td>\n",
              "      <td>1</td>\n",
              "      <td>0</td>\n",
              "    </tr>\n",
              "    <tr>\n",
              "      <th>42248</th>\n",
              "      <td>0</td>\n",
              "      <td>63.0</td>\n",
              "      <td>0</td>\n",
              "      <td>0</td>\n",
              "      <td>1</td>\n",
              "      <td>1</td>\n",
              "      <td>106.77</td>\n",
              "      <td>22.4</td>\n",
              "      <td>0</td>\n",
              "      <td>1</td>\n",
              "      <td>0</td>\n",
              "      <td>0</td>\n",
              "      <td>0</td>\n",
              "      <td>0</td>\n",
              "      <td>0</td>\n",
              "      <td>1</td>\n",
              "      <td>0</td>\n",
              "    </tr>\n",
              "    <tr>\n",
              "      <th>32426</th>\n",
              "      <td>0</td>\n",
              "      <td>76.0</td>\n",
              "      <td>0</td>\n",
              "      <td>0</td>\n",
              "      <td>1</td>\n",
              "      <td>1</td>\n",
              "      <td>62.05</td>\n",
              "      <td>32.0</td>\n",
              "      <td>0</td>\n",
              "      <td>0</td>\n",
              "      <td>0</td>\n",
              "      <td>0</td>\n",
              "      <td>1</td>\n",
              "      <td>0</td>\n",
              "      <td>1</td>\n",
              "      <td>0</td>\n",
              "      <td>0</td>\n",
              "    </tr>\n",
              "  </tbody>\n",
              "</table>\n",
              "<p>33844 rows × 17 columns</p>\n",
              "</div>\n",
              "      <button class=\"colab-df-convert\" onclick=\"convertToInteractive('df-de4b6905-a118-4d79-b151-f8048d0fa67f')\"\n",
              "              title=\"Convert this dataframe to an interactive table.\"\n",
              "              style=\"display:none;\">\n",
              "        \n",
              "  <svg xmlns=\"http://www.w3.org/2000/svg\" height=\"24px\"viewBox=\"0 0 24 24\"\n",
              "       width=\"24px\">\n",
              "    <path d=\"M0 0h24v24H0V0z\" fill=\"none\"/>\n",
              "    <path d=\"M18.56 5.44l.94 2.06.94-2.06 2.06-.94-2.06-.94-.94-2.06-.94 2.06-2.06.94zm-11 1L8.5 8.5l.94-2.06 2.06-.94-2.06-.94L8.5 2.5l-.94 2.06-2.06.94zm10 10l.94 2.06.94-2.06 2.06-.94-2.06-.94-.94-2.06-.94 2.06-2.06.94z\"/><path d=\"M17.41 7.96l-1.37-1.37c-.4-.4-.92-.59-1.43-.59-.52 0-1.04.2-1.43.59L10.3 9.45l-7.72 7.72c-.78.78-.78 2.05 0 2.83L4 21.41c.39.39.9.59 1.41.59.51 0 1.02-.2 1.41-.59l7.78-7.78 2.81-2.81c.8-.78.8-2.07 0-2.86zM5.41 20L4 18.59l7.72-7.72 1.47 1.35L5.41 20z\"/>\n",
              "  </svg>\n",
              "      </button>\n",
              "      \n",
              "  <style>\n",
              "    .colab-df-container {\n",
              "      display:flex;\n",
              "      flex-wrap:wrap;\n",
              "      gap: 12px;\n",
              "    }\n",
              "\n",
              "    .colab-df-convert {\n",
              "      background-color: #E8F0FE;\n",
              "      border: none;\n",
              "      border-radius: 50%;\n",
              "      cursor: pointer;\n",
              "      display: none;\n",
              "      fill: #1967D2;\n",
              "      height: 32px;\n",
              "      padding: 0 0 0 0;\n",
              "      width: 32px;\n",
              "    }\n",
              "\n",
              "    .colab-df-convert:hover {\n",
              "      background-color: #E2EBFA;\n",
              "      box-shadow: 0px 1px 2px rgba(60, 64, 67, 0.3), 0px 1px 3px 1px rgba(60, 64, 67, 0.15);\n",
              "      fill: #174EA6;\n",
              "    }\n",
              "\n",
              "    [theme=dark] .colab-df-convert {\n",
              "      background-color: #3B4455;\n",
              "      fill: #D2E3FC;\n",
              "    }\n",
              "\n",
              "    [theme=dark] .colab-df-convert:hover {\n",
              "      background-color: #434B5C;\n",
              "      box-shadow: 0px 1px 3px 1px rgba(0, 0, 0, 0.15);\n",
              "      filter: drop-shadow(0px 1px 2px rgba(0, 0, 0, 0.3));\n",
              "      fill: #FFFFFF;\n",
              "    }\n",
              "  </style>\n",
              "\n",
              "      <script>\n",
              "        const buttonEl =\n",
              "          document.querySelector('#df-de4b6905-a118-4d79-b151-f8048d0fa67f button.colab-df-convert');\n",
              "        buttonEl.style.display =\n",
              "          google.colab.kernel.accessAllowed ? 'block' : 'none';\n",
              "\n",
              "        async function convertToInteractive(key) {\n",
              "          const element = document.querySelector('#df-de4b6905-a118-4d79-b151-f8048d0fa67f');\n",
              "          const dataTable =\n",
              "            await google.colab.kernel.invokeFunction('convertToInteractive',\n",
              "                                                     [key], {});\n",
              "          if (!dataTable) return;\n",
              "\n",
              "          const docLinkHtml = 'Like what you see? Visit the ' +\n",
              "            '<a target=\"_blank\" href=https://colab.research.google.com/notebooks/data_table.ipynb>data table notebook</a>'\n",
              "            + ' to learn more about interactive tables.';\n",
              "          element.innerHTML = '';\n",
              "          dataTable['output_type'] = 'display_data';\n",
              "          await google.colab.output.renderOutput(dataTable, element);\n",
              "          const docLink = document.createElement('div');\n",
              "          docLink.innerHTML = docLinkHtml;\n",
              "          element.appendChild(docLink);\n",
              "        }\n",
              "      </script>\n",
              "    </div>\n",
              "  </div>\n",
              "  "
            ],
            "text/plain": [
              "       gender   age  ...  smoking_status_never smoked  smoking_status_smokes\n",
              "32317       0  24.0  ...                            1                      0\n",
              "24317       0  66.0  ...                            1                      0\n",
              "7455        0  46.0  ...                            1                      0\n",
              "17804       0  82.0  ...                            1                      0\n",
              "16435       0  78.0  ...                            0                      0\n",
              "...       ...   ...  ...                          ...                    ...\n",
              "32924       0  16.0  ...                            1                      0\n",
              "42361       0  30.0  ...                            1                      0\n",
              "4834        0  17.0  ...                            1                      0\n",
              "42248       0  63.0  ...                            1                      0\n",
              "32426       0  76.0  ...                            0                      0\n",
              "\n",
              "[33844 rows x 17 columns]"
            ]
          },
          "metadata": {},
          "execution_count": 35
        }
      ],
      "source": [
        "train_data = pd.get_dummies(train_data)\n",
        "test_data = pd.get_dummies(test_data)\n",
        "\n",
        "train_data"
      ]
    },
    {
      "cell_type": "code",
      "source": [
        "x_train = train_data.drop(columns='stroke')\n",
        "x_test = test_data.drop(columns='stroke')\n",
        "\n",
        "y_train = train_data['stroke']\n",
        "#y_train = y_train.reshape(len(y_train),)\n",
        "\n",
        "y_test = test_data['stroke']\n",
        "#y_test = y_test.reshape(len(y_test),)"
      ],
      "metadata": {
        "id": "u8Vuq9_6BiNI"
      },
      "execution_count": null,
      "outputs": []
    },
    {
      "cell_type": "markdown",
      "metadata": {
        "id": "d4a0N0W4neR1"
      },
      "source": [
        "##Imbalance Data"
      ]
    },
    {
      "cell_type": "code",
      "execution_count": null,
      "metadata": {
        "colab": {
          "base_uri": "https://localhost:8080/"
        },
        "id": "y0UCMWMVngJL",
        "outputId": "3150f4a7-b9ec-400a-d055-c301acf00d6e"
      },
      "outputs": [
        {
          "output_type": "execute_result",
          "data": {
            "text/plain": [
              "0    33219\n",
              "1      625\n",
              "Name: stroke, dtype: int64"
            ]
          },
          "metadata": {},
          "execution_count": 37
        }
      ],
      "source": [
        "train_data['stroke'].value_counts()"
      ]
    },
    {
      "cell_type": "code",
      "source": [
        "train_data['stroke'].value_counts().plot.pie(autopct='%.2f')"
      ],
      "metadata": {
        "colab": {
          "base_uri": "https://localhost:8080/",
          "height": 265
        },
        "id": "2w1_F9WgBZac",
        "outputId": "bcdb749c-f0cc-4d55-ddf8-cadb5fc6d59f"
      },
      "execution_count": null,
      "outputs": [
        {
          "output_type": "execute_result",
          "data": {
            "text/plain": [
              "<matplotlib.axes._subplots.AxesSubplot at 0x7f631dc3f5d0>"
            ]
          },
          "metadata": {},
          "execution_count": 38
        },
        {
          "output_type": "display_data",
          "data": {
            "image/png": "[encoded data removed]",
            "text/plain": [
              "<Figure size 432x288 with 1 Axes>"
            ]
          },
          "metadata": {}
        }
      ]
    },
    {
      "cell_type": "markdown",
      "metadata": {
        "id": "hAPDBMoLnm2e"
      },
      "source": [
        "It is known that people who has stroke is very rare compared to people who don't have stroke. Therefore, this data is called imbalanced data and it needs to be proceed further since the focus of this project is the people who tend to have stroke"
      ]
    },
    {
      "cell_type": "markdown",
      "source": [
        "###Oversampling Method"
      ],
      "metadata": {
        "id": "MczJdspMCsLA"
      }
    },
    {
      "cell_type": "markdown",
      "source": [
        "####Random Over Sampler "
      ],
      "metadata": {
        "id": "K2GF4RaWCEV-"
      }
    },
    {
      "cell_type": "code",
      "source": [
        "from imblearn.over_sampling import RandomOverSampler\n",
        "\n",
        "ros = RandomOverSampler(sampling_strategy='not majority', random_state=6)\n",
        "x_train_res, y_train_res = ros.fit_resample(x_train,y_train)\n",
        "\n",
        "ax = y_train_res.value_counts().plot.pie(autopct='%.2f')"
      ],
      "metadata": {
        "id": "c00-67XzC-Bs",
        "colab": {
          "base_uri": "https://localhost:8080/",
          "height": 248
        },
        "outputId": "096ed7d8-57bf-4425-c326-77e9998b0b35"
      },
      "execution_count": null,
      "outputs": [
        {
          "output_type": "display_data",
          "data": {
            "image/png": "[encoded data removed]",
            "text/plain": [
              "<Figure size 432x288 with 1 Axes>"
            ]
          },
          "metadata": {}
        }
      ]
    },
    {
      "cell_type": "code",
      "source": [
        "y_train_res.value_counts()"
      ],
      "metadata": {
        "colab": {
          "base_uri": "https://localhost:8080/"
        },
        "id": "xZAEjokOxu7g",
        "outputId": "1eb1574b-e4a6-4634-a03e-5a9b0837b0e2"
      },
      "execution_count": null,
      "outputs": [
        {
          "output_type": "execute_result",
          "data": {
            "text/plain": [
              "1    33219\n",
              "0    33219\n",
              "Name: stroke, dtype: int64"
            ]
          },
          "metadata": {},
          "execution_count": 40
        }
      ]
    },
    {
      "cell_type": "markdown",
      "source": [
        "####SMOTE Algorithm"
      ],
      "metadata": {
        "id": "zmc3JF-YCP77"
      }
    },
    {
      "cell_type": "code",
      "source": [
        "from collections import Counter\n",
        "from imblearn.over_sampling import SMOTE\n",
        "\n",
        "# summarize class distribution\n",
        "print(\"Before oversampling: \",Counter(y_train))\n",
        "\n",
        "# define oversampling strategy\n",
        "SMOTE = SMOTE()\n",
        "\n",
        "# fit and apply the transform\n",
        "x_train_SMOTE, y_train_SMOTE = SMOTE.fit_resample(x_train, y_train)\n",
        "\n",
        "# summarize class distribution\n",
        "print(\"After oversampling: \",Counter(y_train_SMOTE))"
      ],
      "metadata": {
        "colab": {
          "base_uri": "https://localhost:8080/"
        },
        "id": "lL0hyQD_x5WX",
        "outputId": "00b75766-97a6-4768-9033-1663a218f620"
      },
      "execution_count": null,
      "outputs": [
        {
          "output_type": "stream",
          "name": "stdout",
          "text": [
            "Before oversampling:  Counter({0: 33219, 1: 625})\n",
            "After oversampling:  Counter({0: 33219, 1: 33219})\n"
          ]
        }
      ]
    },
    {
      "cell_type": "code",
      "source": [
        "from sklearn.linear_model import LogisticRegression\n",
        "from sklearn.metrics import confusion_matrix, classification_report, recall_score, f1_score, roc_curve, auc\n",
        "from sklearn.model_selection import KFold\n",
        "from sklearn.model_selection import GridSearchCV"
      ],
      "metadata": {
        "id": "7vcpKIOj6u7S"
      },
      "execution_count": null,
      "outputs": []
    },
    {
      "cell_type": "code",
      "source": [
        "def eval_classification(model, pred, x_train_res, y_train_res, x_test, y_test):\n",
        "    print(\"Recall score (Test Set): %.2f\" % recall_score(y_test, pred))\n",
        "    print(\"F1-Score (Test Set): %.2f\" % f1_score(y_test, pred))\n",
        "    \n",
        "    fpr, tpr, thresholds = roc_curve(y_test, pred, pos_label=1)\n",
        "    print(\"AUC: %.2f\" % auc(fpr, tpr))"
      ],
      "metadata": {
        "id": "NzHwbh4z81E1"
      },
      "execution_count": null,
      "outputs": []
    },
    {
      "cell_type": "markdown",
      "source": [
        "###Metric Choice"
      ],
      "metadata": {
        "id": "sHqiyYNtHgfD"
      }
    },
    {
      "cell_type": "markdown",
      "source": [
        "####Logistic Regression"
      ],
      "metadata": {
        "id": "Z4zQ2HE6yKyr"
      }
    },
    {
      "cell_type": "code",
      "source": [
        "model = LogisticRegression(random_state=6)\n",
        "model.fit(x_train_res, y_train_res)\n",
        "y_pred = model.predict(x_test)\n",
        "eval_classification(model, y_pred, x_train_res, y_train_res, x_test, y_test)"
      ],
      "metadata": {
        "colab": {
          "base_uri": "https://localhost:8080/"
        },
        "id": "kmnmLIP5yNb2",
        "outputId": "4ea810bf-8dcf-4d87-a4f8-68339c4df349"
      },
      "execution_count": null,
      "outputs": [
        {
          "output_type": "stream",
          "name": "stdout",
          "text": [
            "Recall score (Test Set): 0.82\n",
            "F1-Score (Test Set): 0.10\n",
            "AUC: 0.78\n"
          ]
        },
        {
          "output_type": "stream",
          "name": "stderr",
          "text": [
            "/usr/local/lib/python3.7/dist-packages/sklearn/linear_model/_logistic.py:818: ConvergenceWarning: lbfgs failed to converge (status=1):\n",
            "STOP: TOTAL NO. of ITERATIONS REACHED LIMIT.\n",
            "\n",
            "Increase the number of iterations (max_iter) or scale the data as shown in:\n",
            "    https://scikit-learn.org/stable/modules/preprocessing.html\n",
            "Please also refer to the documentation for alternative solver options:\n",
            "    https://scikit-learn.org/stable/modules/linear_model.html#logistic-regression\n",
            "  extra_warning_msg=_LOGISTIC_SOLVER_CONVERGENCE_MSG,\n"
          ]
        }
      ]
    },
    {
      "cell_type": "markdown",
      "metadata": {
        "id": "2rLm47hR30A_"
      },
      "source": [
        "####Decision Tree"
      ]
    },
    {
      "cell_type": "code",
      "execution_count": null,
      "metadata": {
        "colab": {
          "base_uri": "https://localhost:8080/"
        },
        "id": "-7136MBH3xqX",
        "outputId": "400f08b8-0668-4c2c-c407-361d0b1ac1b7"
      },
      "outputs": [
        {
          "output_type": "stream",
          "name": "stdout",
          "text": [
            "Recall score (Test Set): 0.03\n",
            "F1-Score (Test Set): 0.04\n",
            "AUC: 0.51\n"
          ]
        }
      ],
      "source": [
        "from sklearn.tree import DecisionTreeClassifier\n",
        "\n",
        "dt = DecisionTreeClassifier(random_state = 6)\n",
        "dt.fit(x_train_res, y_train_res)\n",
        "y_pred = dt.predict(x_test)\n",
        "eval_classification(model, y_pred, x_train_res, y_train_res, x_test, y_test)\n",
        "#print('recall score using decision tree classifier is', recall_score(y_test, y_pred))"
      ]
    },
    {
      "cell_type": "markdown",
      "source": [
        "#####Hyperparameter Tunning (RandomizedSearchCV)"
      ],
      "metadata": {
        "id": "i36yyzIOebnI"
      }
    },
    {
      "cell_type": "code",
      "source": [
        "from sklearn.model_selection import RandomizedSearchCV\n",
        "\n",
        "#n_estimators = [200, 250, 300, 350]\n",
        "#max_features = ['auto', 'sqrt', 'log2']\n",
        "max_depth = [1,3,5,7]\n",
        "min_samples_split = [2, 5, 10]\n",
        "min_samples_leaf = [1, 2, 4]\n",
        "# bootstrap = [True, False]\n",
        "\n",
        "random_grid = {'max_depth': max_depth,\n",
        "               'min_samples_split': min_samples_split,\n",
        "               'min_samples_leaf': min_samples_leaf}"
      ],
      "metadata": {
        "id": "Tq3SWrB7ebOv"
      },
      "execution_count": null,
      "outputs": []
    },
    {
      "cell_type": "code",
      "source": [
        "from sklearn.tree import DecisionTreeClassifier\n",
        "\n",
        "dt = DecisionTreeClassifier( random_state = 6)\n",
        "dt_random = RandomizedSearchCV(estimator = dt, \n",
        "                              param_distributions = random_grid,\n",
        "                              cv = 5,\n",
        "                              scoring = 'recall')\n",
        "\n",
        "dt_random.fit(x_train_res, y_train_res)"
      ],
      "metadata": {
        "colab": {
          "base_uri": "https://localhost:8080/"
        },
        "id": "BkGHHQiZeqW7",
        "outputId": "739c13ed-36e7-4c37-a8fd-944a22c5b70b"
      },
      "execution_count": null,
      "outputs": [
        {
          "output_type": "execute_result",
          "data": {
            "text/plain": [
              "RandomizedSearchCV(cv=5, estimator=DecisionTreeClassifier(random_state=6),\n",
              "                   param_distributions={'max_depth': [1, 3, 5, 7],\n",
              "                                        'min_samples_leaf': [1, 2, 4],\n",
              "                                        'min_samples_split': [2, 5, 10]},\n",
              "                   scoring='recall')"
            ]
          },
          "metadata": {},
          "execution_count": 48
        }
      ]
    },
    {
      "cell_type": "code",
      "source": [
        "dt_random.best_params_"
      ],
      "metadata": {
        "colab": {
          "base_uri": "https://localhost:8080/"
        },
        "id": "dz2g_ZwUezCz",
        "outputId": "c53e7c4b-6a6c-44e1-980a-326ac6d0103f"
      },
      "execution_count": null,
      "outputs": [
        {
          "output_type": "execute_result",
          "data": {
            "text/plain": [
              "{'max_depth': 7, 'min_samples_leaf': 4, 'min_samples_split': 10}"
            ]
          },
          "metadata": {},
          "execution_count": 49
        }
      ]
    },
    {
      "cell_type": "code",
      "source": [
        "final_dt = DecisionTreeClassifier(max_depth = 7, min_samples_split = 10, min_samples_leaf = 4, random_state = 6)\n",
        "final_dt.fit(x_train_res, y_train_res)\n",
        "y_pred = final_dt.predict(x_test)\n",
        "\n",
        "print('recall:', recall_score(y_test, y_pred))"
      ],
      "metadata": {
        "colab": {
          "base_uri": "https://localhost:8080/"
        },
        "id": "mINHB8G8e5pM",
        "outputId": "4b667a4b-f870-4787-a1c5-e382a6421854"
      },
      "execution_count": null,
      "outputs": [
        {
          "output_type": "stream",
          "name": "stdout",
          "text": [
            "recall: 0.7074829931972789\n"
          ]
        }
      ]
    },
    {
      "cell_type": "markdown",
      "source": [
        "#####Hyperparameter Tunning (GridSearchCV)"
      ],
      "metadata": {
        "id": "liwt-XksgsEd"
      }
    },
    {
      "cell_type": "code",
      "source": [
        "%%time\n",
        "from sklearn.model_selection import GridSearchCV\n",
        "\n",
        "parameters = {\n",
        "    # 'n_estimators': (200, 250, 300, 350),\n",
        "    # 'max_features': ('auto', 'sqrt', 'log2'),\n",
        "    'max_depth': (1,3,5,7),\n",
        "    'min_samples_split':(2, 5, 10),\n",
        "    'min_samples_leaf': (1, 2, 4)\n",
        "    # 'bootstrap': (True, False)\n",
        "}\n",
        "\n",
        "# note: we use recall\n",
        "dt_gridcv = GridSearchCV(dt, parameters, cv=5, scoring='recall')\n",
        "dt_gridcv.fit(x_train_res, y_train_res)"
      ],
      "metadata": {
        "colab": {
          "base_uri": "https://localhost:8080/"
        },
        "id": "rtWcbbHbgnmu",
        "outputId": "7967b0ff-9f74-4481-ae73-a99e54531f09"
      },
      "execution_count": null,
      "outputs": [
        {
          "output_type": "stream",
          "name": "stdout",
          "text": [
            "CPU times: user 16.1 s, sys: 39.7 ms, total: 16.1 s\n",
            "Wall time: 16.1 s\n"
          ]
        }
      ]
    },
    {
      "cell_type": "code",
      "source": [
        "cv_result = pd.DataFrame(dt_gridcv.cv_results_)\n",
        "retain_cols = ['params','mean_test_score','rank_test_score']\n",
        "cv_result[retain_cols].sort_values('rank_test_score')"
      ],
      "metadata": {
        "colab": {
          "base_uri": "https://localhost:8080/",
          "height": 655
        },
        "id": "o8w9JaQeg8ew",
        "outputId": "451c2174-fb6c-4bde-b971-d3e40fd32d7e"
      },
      "execution_count": null,
      "outputs": [
        {
          "output_type": "execute_result",
          "data": {
            "text/html": [
              "\n",
              "  <div id=\"df-7d2a623a-bdc8-475e-a77d-866571886ef5\">\n",
              "    <div class=\"colab-df-container\">\n",
              "      <div>\n",
              "<style scoped>\n",
              "    .dataframe tbody tr th:only-of-type {\n",
              "        vertical-align: middle;\n",
              "    }\n",
              "\n",
              "    .dataframe tbody tr th {\n",
              "        vertical-align: top;\n",
              "    }\n",
              "\n",
              "    .dataframe thead th {\n",
              "        text-align: right;\n",
              "    }\n",
              "</style>\n",
              "<table border=\"1\" class=\"dataframe\">\n",
              "  <thead>\n",
              "    <tr style=\"text-align: right;\">\n",
              "      <th></th>\n",
              "      <th>params</th>\n",
              "      <th>mean_test_score</th>\n",
              "      <th>rank_test_score</th>\n",
              "    </tr>\n",
              "  </thead>\n",
              "  <tbody>\n",
              "    <tr>\n",
              "      <th>35</th>\n",
              "      <td>{'max_depth': 7, 'min_samples_leaf': 4, 'min_s...</td>\n",
              "      <td>0.913152</td>\n",
              "      <td>1</td>\n",
              "    </tr>\n",
              "    <tr>\n",
              "      <th>33</th>\n",
              "      <td>{'max_depth': 7, 'min_samples_leaf': 4, 'min_s...</td>\n",
              "      <td>0.913152</td>\n",
              "      <td>1</td>\n",
              "    </tr>\n",
              "    <tr>\n",
              "      <th>32</th>\n",
              "      <td>{'max_depth': 7, 'min_samples_leaf': 2, 'min_s...</td>\n",
              "      <td>0.913152</td>\n",
              "      <td>1</td>\n",
              "    </tr>\n",
              "    <tr>\n",
              "      <th>31</th>\n",
              "      <td>{'max_depth': 7, 'min_samples_leaf': 2, 'min_s...</td>\n",
              "      <td>0.913152</td>\n",
              "      <td>1</td>\n",
              "    </tr>\n",
              "    <tr>\n",
              "      <th>30</th>\n",
              "      <td>{'max_depth': 7, 'min_samples_leaf': 2, 'min_s...</td>\n",
              "      <td>0.913152</td>\n",
              "      <td>1</td>\n",
              "    </tr>\n",
              "    <tr>\n",
              "      <th>29</th>\n",
              "      <td>{'max_depth': 7, 'min_samples_leaf': 1, 'min_s...</td>\n",
              "      <td>0.913152</td>\n",
              "      <td>1</td>\n",
              "    </tr>\n",
              "    <tr>\n",
              "      <th>28</th>\n",
              "      <td>{'max_depth': 7, 'min_samples_leaf': 1, 'min_s...</td>\n",
              "      <td>0.913152</td>\n",
              "      <td>1</td>\n",
              "    </tr>\n",
              "    <tr>\n",
              "      <th>27</th>\n",
              "      <td>{'max_depth': 7, 'min_samples_leaf': 1, 'min_s...</td>\n",
              "      <td>0.913152</td>\n",
              "      <td>1</td>\n",
              "    </tr>\n",
              "    <tr>\n",
              "      <th>34</th>\n",
              "      <td>{'max_depth': 7, 'min_samples_leaf': 4, 'min_s...</td>\n",
              "      <td>0.913152</td>\n",
              "      <td>1</td>\n",
              "    </tr>\n",
              "    <tr>\n",
              "      <th>0</th>\n",
              "      <td>{'max_depth': 1, 'min_samples_leaf': 1, 'min_s...</td>\n",
              "      <td>0.879737</td>\n",
              "      <td>10</td>\n",
              "    </tr>\n",
              "    <tr>\n",
              "      <th>1</th>\n",
              "      <td>{'max_depth': 1, 'min_samples_leaf': 1, 'min_s...</td>\n",
              "      <td>0.879737</td>\n",
              "      <td>10</td>\n",
              "    </tr>\n",
              "    <tr>\n",
              "      <th>2</th>\n",
              "      <td>{'max_depth': 1, 'min_samples_leaf': 1, 'min_s...</td>\n",
              "      <td>0.879737</td>\n",
              "      <td>10</td>\n",
              "    </tr>\n",
              "    <tr>\n",
              "      <th>3</th>\n",
              "      <td>{'max_depth': 1, 'min_samples_leaf': 2, 'min_s...</td>\n",
              "      <td>0.879737</td>\n",
              "      <td>10</td>\n",
              "    </tr>\n",
              "    <tr>\n",
              "      <th>4</th>\n",
              "      <td>{'max_depth': 1, 'min_samples_leaf': 2, 'min_s...</td>\n",
              "      <td>0.879737</td>\n",
              "      <td>10</td>\n",
              "    </tr>\n",
              "    <tr>\n",
              "      <th>5</th>\n",
              "      <td>{'max_depth': 1, 'min_samples_leaf': 2, 'min_s...</td>\n",
              "      <td>0.879737</td>\n",
              "      <td>10</td>\n",
              "    </tr>\n",
              "    <tr>\n",
              "      <th>6</th>\n",
              "      <td>{'max_depth': 1, 'min_samples_leaf': 4, 'min_s...</td>\n",
              "      <td>0.879737</td>\n",
              "      <td>10</td>\n",
              "    </tr>\n",
              "    <tr>\n",
              "      <th>8</th>\n",
              "      <td>{'max_depth': 1, 'min_samples_leaf': 4, 'min_s...</td>\n",
              "      <td>0.879737</td>\n",
              "      <td>10</td>\n",
              "    </tr>\n",
              "    <tr>\n",
              "      <th>7</th>\n",
              "      <td>{'max_depth': 1, 'min_samples_leaf': 4, 'min_s...</td>\n",
              "      <td>0.879737</td>\n",
              "      <td>10</td>\n",
              "    </tr>\n",
              "    <tr>\n",
              "      <th>22</th>\n",
              "      <td>{'max_depth': 5, 'min_samples_leaf': 2, 'min_s...</td>\n",
              "      <td>0.835094</td>\n",
              "      <td>19</td>\n",
              "    </tr>\n",
              "    <tr>\n",
              "      <th>24</th>\n",
              "      <td>{'max_depth': 5, 'min_samples_leaf': 4, 'min_s...</td>\n",
              "      <td>0.835094</td>\n",
              "      <td>19</td>\n",
              "    </tr>\n",
              "    <tr>\n",
              "      <th>23</th>\n",
              "      <td>{'max_depth': 5, 'min_samples_leaf': 2, 'min_s...</td>\n",
              "      <td>0.835094</td>\n",
              "      <td>19</td>\n",
              "    </tr>\n",
              "    <tr>\n",
              "      <th>18</th>\n",
              "      <td>{'max_depth': 5, 'min_samples_leaf': 1, 'min_s...</td>\n",
              "      <td>0.835094</td>\n",
              "      <td>19</td>\n",
              "    </tr>\n",
              "    <tr>\n",
              "      <th>20</th>\n",
              "      <td>{'max_depth': 5, 'min_samples_leaf': 1, 'min_s...</td>\n",
              "      <td>0.835094</td>\n",
              "      <td>19</td>\n",
              "    </tr>\n",
              "    <tr>\n",
              "      <th>19</th>\n",
              "      <td>{'max_depth': 5, 'min_samples_leaf': 1, 'min_s...</td>\n",
              "      <td>0.835094</td>\n",
              "      <td>19</td>\n",
              "    </tr>\n",
              "    <tr>\n",
              "      <th>25</th>\n",
              "      <td>{'max_depth': 5, 'min_samples_leaf': 4, 'min_s...</td>\n",
              "      <td>0.835094</td>\n",
              "      <td>19</td>\n",
              "    </tr>\n",
              "    <tr>\n",
              "      <th>21</th>\n",
              "      <td>{'max_depth': 5, 'min_samples_leaf': 2, 'min_s...</td>\n",
              "      <td>0.835094</td>\n",
              "      <td>19</td>\n",
              "    </tr>\n",
              "    <tr>\n",
              "      <th>26</th>\n",
              "      <td>{'max_depth': 5, 'min_samples_leaf': 4, 'min_s...</td>\n",
              "      <td>0.835094</td>\n",
              "      <td>19</td>\n",
              "    </tr>\n",
              "    <tr>\n",
              "      <th>10</th>\n",
              "      <td>{'max_depth': 3, 'min_samples_leaf': 1, 'min_s...</td>\n",
              "      <td>0.815589</td>\n",
              "      <td>28</td>\n",
              "    </tr>\n",
              "    <tr>\n",
              "      <th>16</th>\n",
              "      <td>{'max_depth': 3, 'min_samples_leaf': 4, 'min_s...</td>\n",
              "      <td>0.815589</td>\n",
              "      <td>28</td>\n",
              "    </tr>\n",
              "    <tr>\n",
              "      <th>15</th>\n",
              "      <td>{'max_depth': 3, 'min_samples_leaf': 4, 'min_s...</td>\n",
              "      <td>0.815589</td>\n",
              "      <td>28</td>\n",
              "    </tr>\n",
              "    <tr>\n",
              "      <th>14</th>\n",
              "      <td>{'max_depth': 3, 'min_samples_leaf': 2, 'min_s...</td>\n",
              "      <td>0.815589</td>\n",
              "      <td>28</td>\n",
              "    </tr>\n",
              "    <tr>\n",
              "      <th>13</th>\n",
              "      <td>{'max_depth': 3, 'min_samples_leaf': 2, 'min_s...</td>\n",
              "      <td>0.815589</td>\n",
              "      <td>28</td>\n",
              "    </tr>\n",
              "    <tr>\n",
              "      <th>12</th>\n",
              "      <td>{'max_depth': 3, 'min_samples_leaf': 2, 'min_s...</td>\n",
              "      <td>0.815589</td>\n",
              "      <td>28</td>\n",
              "    </tr>\n",
              "    <tr>\n",
              "      <th>11</th>\n",
              "      <td>{'max_depth': 3, 'min_samples_leaf': 1, 'min_s...</td>\n",
              "      <td>0.815589</td>\n",
              "      <td>28</td>\n",
              "    </tr>\n",
              "    <tr>\n",
              "      <th>9</th>\n",
              "      <td>{'max_depth': 3, 'min_samples_leaf': 1, 'min_s...</td>\n",
              "      <td>0.815589</td>\n",
              "      <td>28</td>\n",
              "    </tr>\n",
              "    <tr>\n",
              "      <th>17</th>\n",
              "      <td>{'max_depth': 3, 'min_samples_leaf': 4, 'min_s...</td>\n",
              "      <td>0.815589</td>\n",
              "      <td>28</td>\n",
              "    </tr>\n",
              "  </tbody>\n",
              "</table>\n",
              "</div>\n",
              "      <button class=\"colab-df-convert\" onclick=\"convertToInteractive('df-7d2a623a-bdc8-475e-a77d-866571886ef5')\"\n",
              "              title=\"Convert this dataframe to an interactive table.\"\n",
              "              style=\"display:none;\">\n",
              "        \n",
              "  <svg xmlns=\"http://www.w3.org/2000/svg\" height=\"24px\"viewBox=\"0 0 24 24\"\n",
              "       width=\"24px\">\n",
              "    <path d=\"M0 0h24v24H0V0z\" fill=\"none\"/>\n",
              "    <path d=\"M18.56 5.44l.94 2.06.94-2.06 2.06-.94-2.06-.94-.94-2.06-.94 2.06-2.06.94zm-11 1L8.5 8.5l.94-2.06 2.06-.94-2.06-.94L8.5 2.5l-.94 2.06-2.06.94zm10 10l.94 2.06.94-2.06 2.06-.94-2.06-.94-.94-2.06-.94 2.06-2.06.94z\"/><path d=\"M17.41 7.96l-1.37-1.37c-.4-.4-.92-.59-1.43-.59-.52 0-1.04.2-1.43.59L10.3 9.45l-7.72 7.72c-.78.78-.78 2.05 0 2.83L4 21.41c.39.39.9.59 1.41.59.51 0 1.02-.2 1.41-.59l7.78-7.78 2.81-2.81c.8-.78.8-2.07 0-2.86zM5.41 20L4 18.59l7.72-7.72 1.47 1.35L5.41 20z\"/>\n",
              "  </svg>\n",
              "      </button>\n",
              "      \n",
              "  <style>\n",
              "    .colab-df-container {\n",
              "      display:flex;\n",
              "      flex-wrap:wrap;\n",
              "      gap: 12px;\n",
              "    }\n",
              "\n",
              "    .colab-df-convert {\n",
              "      background-color: #E8F0FE;\n",
              "      border: none;\n",
              "      border-radius: 50%;\n",
              "      cursor: pointer;\n",
              "      display: none;\n",
              "      fill: #1967D2;\n",
              "      height: 32px;\n",
              "      padding: 0 0 0 0;\n",
              "      width: 32px;\n",
              "    }\n",
              "\n",
              "    .colab-df-convert:hover {\n",
              "      background-color: #E2EBFA;\n",
              "      box-shadow: 0px 1px 2px rgba(60, 64, 67, 0.3), 0px 1px 3px 1px rgba(60, 64, 67, 0.15);\n",
              "      fill: #174EA6;\n",
              "    }\n",
              "\n",
              "    [theme=dark] .colab-df-convert {\n",
              "      background-color: #3B4455;\n",
              "      fill: #D2E3FC;\n",
              "    }\n",
              "\n",
              "    [theme=dark] .colab-df-convert:hover {\n",
              "      background-color: #434B5C;\n",
              "      box-shadow: 0px 1px 3px 1px rgba(0, 0, 0, 0.15);\n",
              "      filter: drop-shadow(0px 1px 2px rgba(0, 0, 0, 0.3));\n",
              "      fill: #FFFFFF;\n",
              "    }\n",
              "  </style>\n",
              "\n",
              "      <script>\n",
              "        const buttonEl =\n",
              "          document.querySelector('#df-7d2a623a-bdc8-475e-a77d-866571886ef5 button.colab-df-convert');\n",
              "        buttonEl.style.display =\n",
              "          google.colab.kernel.accessAllowed ? 'block' : 'none';\n",
              "\n",
              "        async function convertToInteractive(key) {\n",
              "          const element = document.querySelector('#df-7d2a623a-bdc8-475e-a77d-866571886ef5');\n",
              "          const dataTable =\n",
              "            await google.colab.kernel.invokeFunction('convertToInteractive',\n",
              "                                                     [key], {});\n",
              "          if (!dataTable) return;\n",
              "\n",
              "          const docLinkHtml = 'Like what you see? Visit the ' +\n",
              "            '<a target=\"_blank\" href=https://colab.research.google.com/notebooks/data_table.ipynb>data table notebook</a>'\n",
              "            + ' to learn more about interactive tables.';\n",
              "          element.innerHTML = '';\n",
              "          dataTable['output_type'] = 'display_data';\n",
              "          await google.colab.output.renderOutput(dataTable, element);\n",
              "          const docLink = document.createElement('div');\n",
              "          docLink.innerHTML = docLinkHtml;\n",
              "          element.appendChild(docLink);\n",
              "        }\n",
              "      </script>\n",
              "    </div>\n",
              "  </div>\n",
              "  "
            ],
            "text/plain": [
              "                                               params  ...  rank_test_score\n",
              "35  {'max_depth': 7, 'min_samples_leaf': 4, 'min_s...  ...                1\n",
              "33  {'max_depth': 7, 'min_samples_leaf': 4, 'min_s...  ...                1\n",
              "32  {'max_depth': 7, 'min_samples_leaf': 2, 'min_s...  ...                1\n",
              "31  {'max_depth': 7, 'min_samples_leaf': 2, 'min_s...  ...                1\n",
              "30  {'max_depth': 7, 'min_samples_leaf': 2, 'min_s...  ...                1\n",
              "29  {'max_depth': 7, 'min_samples_leaf': 1, 'min_s...  ...                1\n",
              "28  {'max_depth': 7, 'min_samples_leaf': 1, 'min_s...  ...                1\n",
              "27  {'max_depth': 7, 'min_samples_leaf': 1, 'min_s...  ...                1\n",
              "34  {'max_depth': 7, 'min_samples_leaf': 4, 'min_s...  ...                1\n",
              "0   {'max_depth': 1, 'min_samples_leaf': 1, 'min_s...  ...               10\n",
              "1   {'max_depth': 1, 'min_samples_leaf': 1, 'min_s...  ...               10\n",
              "2   {'max_depth': 1, 'min_samples_leaf': 1, 'min_s...  ...               10\n",
              "3   {'max_depth': 1, 'min_samples_leaf': 2, 'min_s...  ...               10\n",
              "4   {'max_depth': 1, 'min_samples_leaf': 2, 'min_s...  ...               10\n",
              "5   {'max_depth': 1, 'min_samples_leaf': 2, 'min_s...  ...               10\n",
              "6   {'max_depth': 1, 'min_samples_leaf': 4, 'min_s...  ...               10\n",
              "8   {'max_depth': 1, 'min_samples_leaf': 4, 'min_s...  ...               10\n",
              "7   {'max_depth': 1, 'min_samples_leaf': 4, 'min_s...  ...               10\n",
              "22  {'max_depth': 5, 'min_samples_leaf': 2, 'min_s...  ...               19\n",
              "24  {'max_depth': 5, 'min_samples_leaf': 4, 'min_s...  ...               19\n",
              "23  {'max_depth': 5, 'min_samples_leaf': 2, 'min_s...  ...               19\n",
              "18  {'max_depth': 5, 'min_samples_leaf': 1, 'min_s...  ...               19\n",
              "20  {'max_depth': 5, 'min_samples_leaf': 1, 'min_s...  ...               19\n",
              "19  {'max_depth': 5, 'min_samples_leaf': 1, 'min_s...  ...               19\n",
              "25  {'max_depth': 5, 'min_samples_leaf': 4, 'min_s...  ...               19\n",
              "21  {'max_depth': 5, 'min_samples_leaf': 2, 'min_s...  ...               19\n",
              "26  {'max_depth': 5, 'min_samples_leaf': 4, 'min_s...  ...               19\n",
              "10  {'max_depth': 3, 'min_samples_leaf': 1, 'min_s...  ...               28\n",
              "16  {'max_depth': 3, 'min_samples_leaf': 4, 'min_s...  ...               28\n",
              "15  {'max_depth': 3, 'min_samples_leaf': 4, 'min_s...  ...               28\n",
              "14  {'max_depth': 3, 'min_samples_leaf': 2, 'min_s...  ...               28\n",
              "13  {'max_depth': 3, 'min_samples_leaf': 2, 'min_s...  ...               28\n",
              "12  {'max_depth': 3, 'min_samples_leaf': 2, 'min_s...  ...               28\n",
              "11  {'max_depth': 3, 'min_samples_leaf': 1, 'min_s...  ...               28\n",
              "9   {'max_depth': 3, 'min_samples_leaf': 1, 'min_s...  ...               28\n",
              "17  {'max_depth': 3, 'min_samples_leaf': 4, 'min_s...  ...               28\n",
              "\n",
              "[36 rows x 3 columns]"
            ]
          },
          "metadata": {},
          "execution_count": 58
        }
      ]
    },
    {
      "cell_type": "markdown",
      "source": [
        "The best model is when the hyperparameters is {'max_depth': 7, 'min_samples_leaf': 4, 'min_samples_split': 10}"
      ],
      "metadata": {
        "id": "fGqWgz2GhIph"
      }
    },
    {
      "cell_type": "code",
      "source": [
        "from sklearn.metrics import confusion_matrix, ConfusionMatrixDisplay\n",
        "\n",
        "fig, ax = plt.subplots(figsize=(10,7))\n",
        "y_pred = dt_gridcv.best_estimator_.predict(x_test)\n",
        "\n",
        "cm = confusion_matrix(y_test, y_pred, labels=dt_gridcv.best_estimator_.classes_)\n",
        "disp = ConfusionMatrixDisplay(confusion_matrix=cm,\n",
        "                             display_labels=dt_gridcv.best_estimator_.classes_)\n",
        "disp.plot(ax=ax)\n",
        "plt.show()"
      ],
      "metadata": {
        "colab": {
          "base_uri": "https://localhost:8080/",
          "height": 442
        },
        "id": "nNxOP7rShbfz",
        "outputId": "bdb2af4e-764b-405f-d44f-19b81187fb62"
      },
      "execution_count": null,
      "outputs": [
        {
          "output_type": "display_data",
          "data": {
            "image/png": "[encoded data removed]",
            "text/plain": [
              "<Figure size 720x504 with 2 Axes>"
            ]
          },
          "metadata": {
            "needs_background": "light"
          }
        }
      ]
    },
    {
      "cell_type": "code",
      "source": [
        "# classification report\n",
        "from sklearn.metrics import classification_report\n",
        "\n",
        "print(classification_report(y_test, y_pred))"
      ],
      "metadata": {
        "colab": {
          "base_uri": "https://localhost:8080/"
        },
        "id": "m7L1FpO0htve",
        "outputId": "424f718e-3aa3-4d21-e596-8618e8d872aa"
      },
      "execution_count": null,
      "outputs": [
        {
          "output_type": "stream",
          "name": "stdout",
          "text": [
            "              precision    recall  f1-score   support\n",
            "\n",
            "           0       0.99      0.73      0.84      8314\n",
            "           1       0.04      0.71      0.08       147\n",
            "\n",
            "    accuracy                           0.73      8461\n",
            "   macro avg       0.52      0.72      0.46      8461\n",
            "weighted avg       0.98      0.73      0.83      8461\n",
            "\n"
          ]
        }
      ]
    },
    {
      "cell_type": "markdown",
      "metadata": {
        "id": "cqSn93Nv4aJE"
      },
      "source": [
        "####Random Forest"
      ]
    },
    {
      "cell_type": "code",
      "execution_count": null,
      "metadata": {
        "colab": {
          "base_uri": "https://localhost:8080/"
        },
        "id": "a6QR3b064l1i",
        "outputId": "358fec99-e981-44d4-ccd0-1a0d42a6c9ae"
      },
      "outputs": [
        {
          "output_type": "stream",
          "name": "stdout",
          "text": [
            "Recall score (Test Set): 0.02\n",
            "F1-Score (Test Set): 0.03\n",
            "AUC: 0.51\n"
          ]
        }
      ],
      "source": [
        "from sklearn.ensemble import RandomForestClassifier\n",
        "\n",
        "rf = RandomForestClassifier(random_state = 6)\n",
        "rf.fit(x_train_res, y_train_res)\n",
        "y_pred = rf.predict(x_test)\n",
        "eval_classification(model, y_pred, x_train_res, y_train_res, x_test, y_test)\n",
        "#print('recall score using random forest classifier is', recall_score(y_test, y_pred))"
      ]
    },
    {
      "cell_type": "markdown",
      "source": [
        "#####Hyperparameter Tunning (RandomizedSearchCV)"
      ],
      "metadata": {
        "id": "aIM589PzfSmZ"
      }
    },
    {
      "cell_type": "code",
      "source": [
        "from sklearn.model_selection import RandomizedSearchCV\n",
        "\n",
        "max_depth = [1,3,5,7]\n",
        "min_samples_split = [2, 5, 10]\n",
        "min_samples_leaf = [1, 2, 4]\n",
        "\n",
        "random_grid = {'max_depth': max_depth,\n",
        "               'min_samples_split': min_samples_split,\n",
        "               'min_samples_leaf': min_samples_leaf\n",
        "               }"
      ],
      "metadata": {
        "id": "UJM0vWlrfRkJ"
      },
      "execution_count": null,
      "outputs": []
    },
    {
      "cell_type": "code",
      "source": [
        "from sklearn.ensemble import RandomForestClassifier\n",
        "\n",
        "rf = RandomForestClassifier(n_jobs = -1, random_state = 6)\n",
        "rf_random = RandomizedSearchCV(estimator = rf, \n",
        "                              param_distributions = random_grid,\n",
        "                              n_iter = 9,\n",
        "                              cv = 5,\n",
        "                              scoring = 'recall')\n",
        "\n",
        "rf_random.fit(x_train_res, y_train_res)"
      ],
      "metadata": {
        "colab": {
          "base_uri": "https://localhost:8080/"
        },
        "id": "9C_W456dfjD6",
        "outputId": "7c218753-b2d0-4056-ab48-21955433508d"
      },
      "execution_count": null,
      "outputs": [
        {
          "output_type": "execute_result",
          "data": {
            "text/plain": [
              "RandomizedSearchCV(cv=5,\n",
              "                   estimator=RandomForestClassifier(n_jobs=-1, random_state=6),\n",
              "                   n_iter=9,\n",
              "                   param_distributions={'max_depth': [1, 3, 5, 7],\n",
              "                                        'min_samples_leaf': [1, 2, 4],\n",
              "                                        'min_samples_split': [2, 5, 10]},\n",
              "                   scoring='recall')"
            ]
          },
          "metadata": {},
          "execution_count": 54
        }
      ]
    },
    {
      "cell_type": "code",
      "source": [
        "rf_random.best_params_"
      ],
      "metadata": {
        "colab": {
          "base_uri": "https://localhost:8080/"
        },
        "id": "xeFn_UCwf3g8",
        "outputId": "90fc900b-e7d3-4784-9242-c0924e558554"
      },
      "execution_count": null,
      "outputs": [
        {
          "output_type": "execute_result",
          "data": {
            "text/plain": [
              "{'max_depth': 7, 'min_samples_leaf': 1, 'min_samples_split': 10}"
            ]
          },
          "metadata": {},
          "execution_count": 55
        }
      ]
    },
    {
      "cell_type": "code",
      "source": [
        "final_rf = RandomForestClassifier(max_depth = 7, min_samples_split = 10, min_samples_leaf = 1,\n",
        "                                 n_jobs = -1, random_state = 6)\n",
        "final_rf.fit(x_train_res, y_train_res)\n",
        "y_pred = final_rf.predict(x_test)\n",
        "\n",
        "print('recall:', recall_score(y_test, y_pred))"
      ],
      "metadata": {
        "colab": {
          "base_uri": "https://localhost:8080/"
        },
        "id": "F8ambxuaf7W5",
        "outputId": "c7689f23-ca3b-4730-e3b5-5b366d128b28"
      },
      "execution_count": null,
      "outputs": [
        {
          "output_type": "stream",
          "name": "stdout",
          "text": [
            "recall: 0.7891156462585034\n"
          ]
        }
      ]
    },
    {
      "cell_type": "markdown",
      "source": [
        "#####Hyperparameter Tunning (GridSearchCV)"
      ],
      "metadata": {
        "id": "BaRO6CIhiBAY"
      }
    },
    {
      "cell_type": "code",
      "source": [
        "%%time\n",
        "from sklearn.model_selection import GridSearchCV\n",
        "\n",
        "parameters = {\n",
        "    'max_depth': (1,3,5,7),\n",
        "    'min_samples_split':(2, 5, 10),\n",
        "    'min_samples_leaf': (1, 2, 4)\n",
        "}\n",
        "\n",
        "# note: we use recall\n",
        "rf_gridcv = GridSearchCV(rf, parameters, cv=5, scoring='recall')\n",
        "rf_gridcv.fit(x_train_res, y_train_res)"
      ],
      "metadata": {
        "colab": {
          "base_uri": "https://localhost:8080/"
        },
        "id": "GX6whTO-h7GP",
        "outputId": "051af887-11fa-4ee3-a223-ba8e2fb932d5"
      },
      "execution_count": null,
      "outputs": [
        {
          "output_type": "stream",
          "name": "stdout",
          "text": [
            "CPU times: user 1min 11s, sys: 4.22 s, total: 1min 15s\n",
            "Wall time: 5min 32s\n"
          ]
        }
      ]
    },
    {
      "cell_type": "code",
      "source": [
        "cv_result = pd.DataFrame(rf_gridcv.cv_results_)\n",
        "retain_cols = ['params','mean_test_score','rank_test_score']\n",
        "cv_result[retain_cols].sort_values('rank_test_score')"
      ],
      "metadata": {
        "colab": {
          "base_uri": "https://localhost:8080/",
          "height": 655
        },
        "id": "I9Wg1aU6iSaP",
        "outputId": "dac7054f-1955-4c24-b005-e180cb476710"
      },
      "execution_count": null,
      "outputs": [
        {
          "output_type": "execute_result",
          "data": {
            "text/html": [
              "\n",
              "  <div id=\"df-cc37dac8-4f33-4f0d-892b-03ee3df70040\">\n",
              "    <div class=\"colab-df-container\">\n",
              "      <div>\n",
              "<style scoped>\n",
              "    .dataframe tbody tr th:only-of-type {\n",
              "        vertical-align: middle;\n",
              "    }\n",
              "\n",
              "    .dataframe tbody tr th {\n",
              "        vertical-align: top;\n",
              "    }\n",
              "\n",
              "    .dataframe thead th {\n",
              "        text-align: right;\n",
              "    }\n",
              "</style>\n",
              "<table border=\"1\" class=\"dataframe\">\n",
              "  <thead>\n",
              "    <tr style=\"text-align: right;\">\n",
              "      <th></th>\n",
              "      <th>params</th>\n",
              "      <th>mean_test_score</th>\n",
              "      <th>rank_test_score</th>\n",
              "    </tr>\n",
              "  </thead>\n",
              "  <tbody>\n",
              "    <tr>\n",
              "      <th>27</th>\n",
              "      <td>{'max_depth': 7, 'min_samples_leaf': 1, 'min_s...</td>\n",
              "      <td>0.888468</td>\n",
              "      <td>1</td>\n",
              "    </tr>\n",
              "    <tr>\n",
              "      <th>28</th>\n",
              "      <td>{'max_depth': 7, 'min_samples_leaf': 1, 'min_s...</td>\n",
              "      <td>0.888468</td>\n",
              "      <td>1</td>\n",
              "    </tr>\n",
              "    <tr>\n",
              "      <th>29</th>\n",
              "      <td>{'max_depth': 7, 'min_samples_leaf': 1, 'min_s...</td>\n",
              "      <td>0.888468</td>\n",
              "      <td>1</td>\n",
              "    </tr>\n",
              "    <tr>\n",
              "      <th>35</th>\n",
              "      <td>{'max_depth': 7, 'min_samples_leaf': 4, 'min_s...</td>\n",
              "      <td>0.886390</td>\n",
              "      <td>4</td>\n",
              "    </tr>\n",
              "    <tr>\n",
              "      <th>34</th>\n",
              "      <td>{'max_depth': 7, 'min_samples_leaf': 4, 'min_s...</td>\n",
              "      <td>0.886390</td>\n",
              "      <td>4</td>\n",
              "    </tr>\n",
              "    <tr>\n",
              "      <th>33</th>\n",
              "      <td>{'max_depth': 7, 'min_samples_leaf': 4, 'min_s...</td>\n",
              "      <td>0.886390</td>\n",
              "      <td>4</td>\n",
              "    </tr>\n",
              "    <tr>\n",
              "      <th>31</th>\n",
              "      <td>{'max_depth': 7, 'min_samples_leaf': 2, 'min_s...</td>\n",
              "      <td>0.885276</td>\n",
              "      <td>7</td>\n",
              "    </tr>\n",
              "    <tr>\n",
              "      <th>32</th>\n",
              "      <td>{'max_depth': 7, 'min_samples_leaf': 2, 'min_s...</td>\n",
              "      <td>0.885276</td>\n",
              "      <td>7</td>\n",
              "    </tr>\n",
              "    <tr>\n",
              "      <th>30</th>\n",
              "      <td>{'max_depth': 7, 'min_samples_leaf': 2, 'min_s...</td>\n",
              "      <td>0.885276</td>\n",
              "      <td>7</td>\n",
              "    </tr>\n",
              "    <tr>\n",
              "      <th>25</th>\n",
              "      <td>{'max_depth': 5, 'min_samples_leaf': 4, 'min_s...</td>\n",
              "      <td>0.871850</td>\n",
              "      <td>10</td>\n",
              "    </tr>\n",
              "    <tr>\n",
              "      <th>24</th>\n",
              "      <td>{'max_depth': 5, 'min_samples_leaf': 4, 'min_s...</td>\n",
              "      <td>0.871850</td>\n",
              "      <td>10</td>\n",
              "    </tr>\n",
              "    <tr>\n",
              "      <th>26</th>\n",
              "      <td>{'max_depth': 5, 'min_samples_leaf': 4, 'min_s...</td>\n",
              "      <td>0.871850</td>\n",
              "      <td>10</td>\n",
              "    </tr>\n",
              "    <tr>\n",
              "      <th>18</th>\n",
              "      <td>{'max_depth': 5, 'min_samples_leaf': 1, 'min_s...</td>\n",
              "      <td>0.870767</td>\n",
              "      <td>13</td>\n",
              "    </tr>\n",
              "    <tr>\n",
              "      <th>20</th>\n",
              "      <td>{'max_depth': 5, 'min_samples_leaf': 1, 'min_s...</td>\n",
              "      <td>0.870767</td>\n",
              "      <td>13</td>\n",
              "    </tr>\n",
              "    <tr>\n",
              "      <th>19</th>\n",
              "      <td>{'max_depth': 5, 'min_samples_leaf': 1, 'min_s...</td>\n",
              "      <td>0.870767</td>\n",
              "      <td>13</td>\n",
              "    </tr>\n",
              "    <tr>\n",
              "      <th>23</th>\n",
              "      <td>{'max_depth': 5, 'min_samples_leaf': 2, 'min_s...</td>\n",
              "      <td>0.870496</td>\n",
              "      <td>16</td>\n",
              "    </tr>\n",
              "    <tr>\n",
              "      <th>22</th>\n",
              "      <td>{'max_depth': 5, 'min_samples_leaf': 2, 'min_s...</td>\n",
              "      <td>0.870496</td>\n",
              "      <td>16</td>\n",
              "    </tr>\n",
              "    <tr>\n",
              "      <th>21</th>\n",
              "      <td>{'max_depth': 5, 'min_samples_leaf': 2, 'min_s...</td>\n",
              "      <td>0.870496</td>\n",
              "      <td>16</td>\n",
              "    </tr>\n",
              "    <tr>\n",
              "      <th>17</th>\n",
              "      <td>{'max_depth': 3, 'min_samples_leaf': 4, 'min_s...</td>\n",
              "      <td>0.867726</td>\n",
              "      <td>19</td>\n",
              "    </tr>\n",
              "    <tr>\n",
              "      <th>15</th>\n",
              "      <td>{'max_depth': 3, 'min_samples_leaf': 4, 'min_s...</td>\n",
              "      <td>0.867726</td>\n",
              "      <td>19</td>\n",
              "    </tr>\n",
              "    <tr>\n",
              "      <th>14</th>\n",
              "      <td>{'max_depth': 3, 'min_samples_leaf': 2, 'min_s...</td>\n",
              "      <td>0.867726</td>\n",
              "      <td>19</td>\n",
              "    </tr>\n",
              "    <tr>\n",
              "      <th>13</th>\n",
              "      <td>{'max_depth': 3, 'min_samples_leaf': 2, 'min_s...</td>\n",
              "      <td>0.867726</td>\n",
              "      <td>19</td>\n",
              "    </tr>\n",
              "    <tr>\n",
              "      <th>12</th>\n",
              "      <td>{'max_depth': 3, 'min_samples_leaf': 2, 'min_s...</td>\n",
              "      <td>0.867726</td>\n",
              "      <td>19</td>\n",
              "    </tr>\n",
              "    <tr>\n",
              "      <th>11</th>\n",
              "      <td>{'max_depth': 3, 'min_samples_leaf': 1, 'min_s...</td>\n",
              "      <td>0.867726</td>\n",
              "      <td>19</td>\n",
              "    </tr>\n",
              "    <tr>\n",
              "      <th>10</th>\n",
              "      <td>{'max_depth': 3, 'min_samples_leaf': 1, 'min_s...</td>\n",
              "      <td>0.867726</td>\n",
              "      <td>19</td>\n",
              "    </tr>\n",
              "    <tr>\n",
              "      <th>9</th>\n",
              "      <td>{'max_depth': 3, 'min_samples_leaf': 1, 'min_s...</td>\n",
              "      <td>0.867726</td>\n",
              "      <td>19</td>\n",
              "    </tr>\n",
              "    <tr>\n",
              "      <th>16</th>\n",
              "      <td>{'max_depth': 3, 'min_samples_leaf': 4, 'min_s...</td>\n",
              "      <td>0.867726</td>\n",
              "      <td>19</td>\n",
              "    </tr>\n",
              "    <tr>\n",
              "      <th>1</th>\n",
              "      <td>{'max_depth': 1, 'min_samples_leaf': 1, 'min_s...</td>\n",
              "      <td>0.841085</td>\n",
              "      <td>28</td>\n",
              "    </tr>\n",
              "    <tr>\n",
              "      <th>2</th>\n",
              "      <td>{'max_depth': 1, 'min_samples_leaf': 1, 'min_s...</td>\n",
              "      <td>0.841085</td>\n",
              "      <td>28</td>\n",
              "    </tr>\n",
              "    <tr>\n",
              "      <th>3</th>\n",
              "      <td>{'max_depth': 1, 'min_samples_leaf': 2, 'min_s...</td>\n",
              "      <td>0.841085</td>\n",
              "      <td>28</td>\n",
              "    </tr>\n",
              "    <tr>\n",
              "      <th>7</th>\n",
              "      <td>{'max_depth': 1, 'min_samples_leaf': 4, 'min_s...</td>\n",
              "      <td>0.841085</td>\n",
              "      <td>28</td>\n",
              "    </tr>\n",
              "    <tr>\n",
              "      <th>5</th>\n",
              "      <td>{'max_depth': 1, 'min_samples_leaf': 2, 'min_s...</td>\n",
              "      <td>0.841085</td>\n",
              "      <td>28</td>\n",
              "    </tr>\n",
              "    <tr>\n",
              "      <th>6</th>\n",
              "      <td>{'max_depth': 1, 'min_samples_leaf': 4, 'min_s...</td>\n",
              "      <td>0.841085</td>\n",
              "      <td>28</td>\n",
              "    </tr>\n",
              "    <tr>\n",
              "      <th>8</th>\n",
              "      <td>{'max_depth': 1, 'min_samples_leaf': 4, 'min_s...</td>\n",
              "      <td>0.841085</td>\n",
              "      <td>28</td>\n",
              "    </tr>\n",
              "    <tr>\n",
              "      <th>4</th>\n",
              "      <td>{'max_depth': 1, 'min_samples_leaf': 2, 'min_s...</td>\n",
              "      <td>0.841085</td>\n",
              "      <td>28</td>\n",
              "    </tr>\n",
              "    <tr>\n",
              "      <th>0</th>\n",
              "      <td>{'max_depth': 1, 'min_samples_leaf': 1, 'min_s...</td>\n",
              "      <td>0.841085</td>\n",
              "      <td>28</td>\n",
              "    </tr>\n",
              "  </tbody>\n",
              "</table>\n",
              "</div>\n",
              "      <button class=\"colab-df-convert\" onclick=\"convertToInteractive('df-cc37dac8-4f33-4f0d-892b-03ee3df70040')\"\n",
              "              title=\"Convert this dataframe to an interactive table.\"\n",
              "              style=\"display:none;\">\n",
              "        \n",
              "  <svg xmlns=\"http://www.w3.org/2000/svg\" height=\"24px\"viewBox=\"0 0 24 24\"\n",
              "       width=\"24px\">\n",
              "    <path d=\"M0 0h24v24H0V0z\" fill=\"none\"/>\n",
              "    <path d=\"M18.56 5.44l.94 2.06.94-2.06 2.06-.94-2.06-.94-.94-2.06-.94 2.06-2.06.94zm-11 1L8.5 8.5l.94-2.06 2.06-.94-2.06-.94L8.5 2.5l-.94 2.06-2.06.94zm10 10l.94 2.06.94-2.06 2.06-.94-2.06-.94-.94-2.06-.94 2.06-2.06.94z\"/><path d=\"M17.41 7.96l-1.37-1.37c-.4-.4-.92-.59-1.43-.59-.52 0-1.04.2-1.43.59L10.3 9.45l-7.72 7.72c-.78.78-.78 2.05 0 2.83L4 21.41c.39.39.9.59 1.41.59.51 0 1.02-.2 1.41-.59l7.78-7.78 2.81-2.81c.8-.78.8-2.07 0-2.86zM5.41 20L4 18.59l7.72-7.72 1.47 1.35L5.41 20z\"/>\n",
              "  </svg>\n",
              "      </button>\n",
              "      \n",
              "  <style>\n",
              "    .colab-df-container {\n",
              "      display:flex;\n",
              "      flex-wrap:wrap;\n",
              "      gap: 12px;\n",
              "    }\n",
              "\n",
              "    .colab-df-convert {\n",
              "      background-color: #E8F0FE;\n",
              "      border: none;\n",
              "      border-radius: 50%;\n",
              "      cursor: pointer;\n",
              "      display: none;\n",
              "      fill: #1967D2;\n",
              "      height: 32px;\n",
              "      padding: 0 0 0 0;\n",
              "      width: 32px;\n",
              "    }\n",
              "\n",
              "    .colab-df-convert:hover {\n",
              "      background-color: #E2EBFA;\n",
              "      box-shadow: 0px 1px 2px rgba(60, 64, 67, 0.3), 0px 1px 3px 1px rgba(60, 64, 67, 0.15);\n",
              "      fill: #174EA6;\n",
              "    }\n",
              "\n",
              "    [theme=dark] .colab-df-convert {\n",
              "      background-color: #3B4455;\n",
              "      fill: #D2E3FC;\n",
              "    }\n",
              "\n",
              "    [theme=dark] .colab-df-convert:hover {\n",
              "      background-color: #434B5C;\n",
              "      box-shadow: 0px 1px 3px 1px rgba(0, 0, 0, 0.15);\n",
              "      filter: drop-shadow(0px 1px 2px rgba(0, 0, 0, 0.3));\n",
              "      fill: #FFFFFF;\n",
              "    }\n",
              "  </style>\n",
              "\n",
              "      <script>\n",
              "        const buttonEl =\n",
              "          document.querySelector('#df-cc37dac8-4f33-4f0d-892b-03ee3df70040 button.colab-df-convert');\n",
              "        buttonEl.style.display =\n",
              "          google.colab.kernel.accessAllowed ? 'block' : 'none';\n",
              "\n",
              "        async function convertToInteractive(key) {\n",
              "          const element = document.querySelector('#df-cc37dac8-4f33-4f0d-892b-03ee3df70040');\n",
              "          const dataTable =\n",
              "            await google.colab.kernel.invokeFunction('convertToInteractive',\n",
              "                                                     [key], {});\n",
              "          if (!dataTable) return;\n",
              "\n",
              "          const docLinkHtml = 'Like what you see? Visit the ' +\n",
              "            '<a target=\"_blank\" href=https://colab.research.google.com/notebooks/data_table.ipynb>data table notebook</a>'\n",
              "            + ' to learn more about interactive tables.';\n",
              "          element.innerHTML = '';\n",
              "          dataTable['output_type'] = 'display_data';\n",
              "          await google.colab.output.renderOutput(dataTable, element);\n",
              "          const docLink = document.createElement('div');\n",
              "          docLink.innerHTML = docLinkHtml;\n",
              "          element.appendChild(docLink);\n",
              "        }\n",
              "      </script>\n",
              "    </div>\n",
              "  </div>\n",
              "  "
            ],
            "text/plain": [
              "                                               params  ...  rank_test_score\n",
              "27  {'max_depth': 7, 'min_samples_leaf': 1, 'min_s...  ...                1\n",
              "28  {'max_depth': 7, 'min_samples_leaf': 1, 'min_s...  ...                1\n",
              "29  {'max_depth': 7, 'min_samples_leaf': 1, 'min_s...  ...                1\n",
              "35  {'max_depth': 7, 'min_samples_leaf': 4, 'min_s...  ...                4\n",
              "34  {'max_depth': 7, 'min_samples_leaf': 4, 'min_s...  ...                4\n",
              "33  {'max_depth': 7, 'min_samples_leaf': 4, 'min_s...  ...                4\n",
              "31  {'max_depth': 7, 'min_samples_leaf': 2, 'min_s...  ...                7\n",
              "32  {'max_depth': 7, 'min_samples_leaf': 2, 'min_s...  ...                7\n",
              "30  {'max_depth': 7, 'min_samples_leaf': 2, 'min_s...  ...                7\n",
              "25  {'max_depth': 5, 'min_samples_leaf': 4, 'min_s...  ...               10\n",
              "24  {'max_depth': 5, 'min_samples_leaf': 4, 'min_s...  ...               10\n",
              "26  {'max_depth': 5, 'min_samples_leaf': 4, 'min_s...  ...               10\n",
              "18  {'max_depth': 5, 'min_samples_leaf': 1, 'min_s...  ...               13\n",
              "20  {'max_depth': 5, 'min_samples_leaf': 1, 'min_s...  ...               13\n",
              "19  {'max_depth': 5, 'min_samples_leaf': 1, 'min_s...  ...               13\n",
              "23  {'max_depth': 5, 'min_samples_leaf': 2, 'min_s...  ...               16\n",
              "22  {'max_depth': 5, 'min_samples_leaf': 2, 'min_s...  ...               16\n",
              "21  {'max_depth': 5, 'min_samples_leaf': 2, 'min_s...  ...               16\n",
              "17  {'max_depth': 3, 'min_samples_leaf': 4, 'min_s...  ...               19\n",
              "15  {'max_depth': 3, 'min_samples_leaf': 4, 'min_s...  ...               19\n",
              "14  {'max_depth': 3, 'min_samples_leaf': 2, 'min_s...  ...               19\n",
              "13  {'max_depth': 3, 'min_samples_leaf': 2, 'min_s...  ...               19\n",
              "12  {'max_depth': 3, 'min_samples_leaf': 2, 'min_s...  ...               19\n",
              "11  {'max_depth': 3, 'min_samples_leaf': 1, 'min_s...  ...               19\n",
              "10  {'max_depth': 3, 'min_samples_leaf': 1, 'min_s...  ...               19\n",
              "9   {'max_depth': 3, 'min_samples_leaf': 1, 'min_s...  ...               19\n",
              "16  {'max_depth': 3, 'min_samples_leaf': 4, 'min_s...  ...               19\n",
              "1   {'max_depth': 1, 'min_samples_leaf': 1, 'min_s...  ...               28\n",
              "2   {'max_depth': 1, 'min_samples_leaf': 1, 'min_s...  ...               28\n",
              "3   {'max_depth': 1, 'min_samples_leaf': 2, 'min_s...  ...               28\n",
              "7   {'max_depth': 1, 'min_samples_leaf': 4, 'min_s...  ...               28\n",
              "5   {'max_depth': 1, 'min_samples_leaf': 2, 'min_s...  ...               28\n",
              "6   {'max_depth': 1, 'min_samples_leaf': 4, 'min_s...  ...               28\n",
              "8   {'max_depth': 1, 'min_samples_leaf': 4, 'min_s...  ...               28\n",
              "4   {'max_depth': 1, 'min_samples_leaf': 2, 'min_s...  ...               28\n",
              "0   {'max_depth': 1, 'min_samples_leaf': 1, 'min_s...  ...               28\n",
              "\n",
              "[36 rows x 3 columns]"
            ]
          },
          "metadata": {},
          "execution_count": 64
        }
      ]
    },
    {
      "cell_type": "markdown",
      "source": [
        "The best model is when the hyperparameters is {'max_depth': 7, 'min_samples_leaf': 1, 'min_samples_split': 2}"
      ],
      "metadata": {
        "id": "x0QR2reCijBz"
      }
    },
    {
      "cell_type": "code",
      "source": [
        "from sklearn.metrics import confusion_matrix, ConfusionMatrixDisplay\n",
        "\n",
        "fig, ax = plt.subplots(figsize=(10,7))\n",
        "y_pred = rf_gridcv.best_estimator_.predict(x_test)\n",
        "\n",
        "cm = confusion_matrix(y_test, y_pred, labels=rf_gridcv.best_estimator_.classes_)\n",
        "disp = ConfusionMatrixDisplay(confusion_matrix=cm,\n",
        "                             display_labels=rf_gridcv.best_estimator_.classes_)\n",
        "disp.plot(ax=ax)\n",
        "plt.show()"
      ],
      "metadata": {
        "colab": {
          "base_uri": "https://localhost:8080/",
          "height": 442
        },
        "id": "YHnw027GisCJ",
        "outputId": "8bf7c49b-092c-40a8-c5d7-2b9c4a08d495"
      },
      "execution_count": null,
      "outputs": [
        {
          "output_type": "display_data",
          "data": {
            "image/png": "[encoded data removed]",
            "text/plain": [
              "<Figure size 720x504 with 2 Axes>"
            ]
          },
          "metadata": {
            "needs_background": "light"
          }
        }
      ]
    },
    {
      "cell_type": "code",
      "source": [
        "# classification report\n",
        "from sklearn.metrics import classification_report\n",
        "\n",
        "print(classification_report(y_test, y_pred))"
      ],
      "metadata": {
        "colab": {
          "base_uri": "https://localhost:8080/"
        },
        "id": "PtYVOrNKkjDG",
        "outputId": "f76561b9-5731-4b40-a89b-57c7bf80c7f2"
      },
      "execution_count": null,
      "outputs": [
        {
          "output_type": "stream",
          "name": "stdout",
          "text": [
            "              precision    recall  f1-score   support\n",
            "\n",
            "           0       1.00      0.75      0.86      8314\n",
            "           1       0.05      0.79      0.10       147\n",
            "\n",
            "    accuracy                           0.76      8461\n",
            "   macro avg       0.52      0.77      0.48      8461\n",
            "weighted avg       0.98      0.76      0.85      8461\n",
            "\n"
          ]
        }
      ]
    },
    {
      "cell_type": "markdown",
      "source": [
        "####XGBoost"
      ],
      "metadata": {
        "id": "KjnQ1-M0_-JG"
      }
    },
    {
      "cell_type": "code",
      "source": [
        "from xgboost import XGBClassifier\n",
        "\n",
        "xg = XGBClassifier(random_state=6)\n",
        "xg.fit(x_train_res, y_train_res)\n",
        "\n",
        "y_pred = xg.predict(x_test)\n",
        "eval_classification(model, y_pred, x_train_res, y_train_res, x_test, y_test)"
      ],
      "metadata": {
        "colab": {
          "base_uri": "https://localhost:8080/"
        },
        "id": "nrot4Xbt_XRA",
        "outputId": "975917a8-a1a3-4aa6-b565-6afa1f4356b1"
      },
      "execution_count": null,
      "outputs": [
        {
          "output_type": "stream",
          "name": "stdout",
          "text": [
            "Recall score (Test Set): 0.82\n",
            "F1-Score (Test Set): 0.11\n",
            "AUC: 0.79\n"
          ]
        }
      ]
    }
  ],
  "metadata": {
    "colab": {
      "name": "Camytha Octanuryati Rochmad - Script Final Project",
      "provenance": [],
      "collapsed_sections": [
        "cqSn93Nv4aJE",
        "a0bWR_hr7HOr",
        "KoVcoD_iybn_",
        "gYlyXjxccpid",
        "txpzm8Ci2qOf",
        "xm1V9aBB_-fI",
        "KGJimZodcz2D",
        "RWxvZhbVoEgz"
      ],
      "authorship_tag": "ABX9TyO16sfVtsw9ICq4Bvkg6FoK",
      "include_colab_link": true
    },
    "kernelspec": {
      "display_name": "Python 3",
      "name": "python3"
    },
    "language_info": {
      "name": "python"
    }
  },
  "nbformat": 4,
  "nbformat_minor": 0
}